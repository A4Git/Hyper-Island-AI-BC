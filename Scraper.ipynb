{
  "nbformat": 4,
  "nbformat_minor": 0,
  "metadata": {
    "colab": {
      "name": "Scraper.ipynb",
      "provenance": [],
      "collapsed_sections": [],
      "authorship_tag": "ABX9TyPfG7+eZxjsnDlvnczg2lCq",
      "include_colab_link": true
    },
    "kernelspec": {
      "name": "python3",
      "display_name": "Python 3"
    },
    "language_info": {
      "name": "python"
    }
  },
  "cells": [
    {
      "cell_type": "markdown",
      "metadata": {
        "id": "view-in-github",
        "colab_type": "text"
      },
      "source": [
        "<a href=\"https://colab.research.google.com/github/A4Git/Hyper-Island-AI-BC/blob/main/Scraper.ipynb\" target=\"_parent\"><img src=\"https://colab.research.google.com/assets/colab-badge.svg\" alt=\"Open In Colab\"/></a>"
      ]
    },
    {
      "cell_type": "code",
      "metadata": {
        "id": "RRZBs_moF4iK"
      },
      "source": [
        "# pip install bs4"
      ],
      "execution_count": 6,
      "outputs": []
    },
    {
      "cell_type": "code",
      "metadata": {
        "id": "w8d2XnYxGC4j"
      },
      "source": [
        "# pip install requests-html"
      ],
      "execution_count": 5,
      "outputs": []
    },
    {
      "cell_type": "markdown",
      "metadata": {
        "id": "4GcP8IqiGoey"
      },
      "source": [
        "## Import the librarys"
      ]
    },
    {
      "cell_type": "code",
      "metadata": {
        "id": "c1ydE4A8Gnsm"
      },
      "source": [
        "import requests_html\n",
        "from bs4 import BeautifulSoup\n",
        "from requests_html import HTMLSession"
      ],
      "execution_count": null,
      "outputs": []
    },
    {
      "cell_type": "code",
      "metadata": {
        "id": "Rp4zVo7rHhrL"
      },
      "source": [
        " url =\"\"\n",
        " r = session.get('url')\n",
        " "
      ],
      "execution_count": null,
      "outputs": []
    },
    {
      "cell_type": "code",
      "metadata": {
        "id": "3OvVWuPiGGAj"
      },
      "source": [
        "soup = BeautifulSoup(html_doc, 'html.parser')\n"
      ],
      "execution_count": null,
      "outputs": []
    },
    {
      "cell_type": "markdown",
      "metadata": {
        "id": "sdrZBs9mH2kN"
      },
      "source": [
        "## Start to get to know the website"
      ]
    },
    {
      "cell_type": "code",
      "metadata": {
        "id": "5cQaHg-1H78B"
      },
      "source": [
        ""
      ],
      "execution_count": null,
      "outputs": []
    }
  ]
}