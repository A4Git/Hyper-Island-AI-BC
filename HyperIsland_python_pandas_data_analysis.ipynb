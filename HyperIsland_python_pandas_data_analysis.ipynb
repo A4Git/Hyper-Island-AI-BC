{
  "nbformat": 4,
  "nbformat_minor": 0,
  "metadata": {
    "kernelspec": {
      "display_name": "Python 3",
      "language": "python",
      "name": "python3"
    },
    "language_info": {
      "codemirror_mode": {
        "name": "ipython",
        "version": 3
      },
      "file_extension": ".py",
      "mimetype": "text/x-python",
      "name": "python",
      "nbconvert_exporter": "python",
      "pygments_lexer": "ipython3",
      "version": "3.8.6"
    },
    "colab": {
      "name": "HyperIsland-python-pandas-data-analysis.ipynb",
      "provenance": [],
      "collapsed_sections": [
        "tGg9mW5G9THN",
        "jNOLqTjX9THc",
        "MiHFytvg9TI9",
        "Qb8W-_2o9TJl"
      ],
      "include_colab_link": true
    }
  },
  "cells": [
    {
      "cell_type": "markdown",
      "metadata": {
        "id": "view-in-github",
        "colab_type": "text"
      },
      "source": [
        "<a href=\"https://colab.research.google.com/github/A4Git/Hyper-Island-AI-BC/blob/main/HyperIsland_python_pandas_data_analysis.ipynb\" target=\"_parent\"><img src=\"https://colab.research.google.com/assets/colab-badge.svg\" alt=\"Open In Colab\"/></a>"
      ]
    },
    {
      "cell_type": "code",
      "metadata": {
        "id": "6O4rAEIA9TAj"
      },
      "source": [
        ""
      ],
      "execution_count": null,
      "outputs": []
    },
    {
      "cell_type": "markdown",
      "metadata": {
        "id": "FHjEt_uX9TBH"
      },
      "source": [
        "# Analyzing Tabular Data using Python and Pandas\n",
        "\n",
        "![](https://i.imgur.com/zfxLzEv.png)\n",
        "\n",
        "\n",
        "This tutorial series is a beginner-friendly introduction to programming and data analysis using the Python programming language. These tutorials take a practical and coding-focused approach. The best way to learn the material is to execute the code and experiment with it yourself. Check out the full series here: \n",
        "\n",
        "1. [First Steps with Python and Jupyter](https://jovian.ai/aakashns/first-steps-with-python)\n",
        "2. [A Quick Tour of Variables and Data Types](https://jovian.ai/aakashns/python-variables-and-data-types)\n",
        "3. [Branching using Conditional Statements and Loops](https://jovian.ai/aakashns/python-branching-and-loops)\n",
        "4. [Writing Reusable Code Using Functions](https://jovian.ai/aakashns/python-functions-and-scope)\n",
        "5. [Reading from and Writing to Files](https://jovian.ai/aakashns/python-os-and-filesystem)\n",
        "6. [Numerical Computing with Python and Numpy](https://jovian.ai/aakashns/python-numerical-computing-with-numpy)\n",
        "7. [Analyzing Tabular Data using Pandas](https://jovian.ai/aakashns/python-pandas-data-analysis)\n",
        "8. [Data Visualization using Matplotlib & Seaborn](https://jovian.ai/aakashns/python-matplotlib-data-visualization)\n",
        "9. [Exploratory Data Analysis - A Case Study](https://jovian.ai/aakashns/python-eda-stackoverflow-survey)\n"
      ]
    },
    {
      "cell_type": "markdown",
      "metadata": {
        "id": "AErsyaLY9TBV"
      },
      "source": [
        "This tutorial covers the following topics:\n",
        "\n",
        "- Reading a CSV file into a Pandas data frame\n",
        "- Retrieving data from Pandas data frames\n",
        "- Querying, soring, and analyzing data\n",
        "- Merging, grouping, and aggregation of data\n",
        "- Extracting useful information from dates\n",
        "- Basic plotting using line and bar charts\n",
        "- Writing data frames to CSV files"
      ]
    },
    {
      "cell_type": "markdown",
      "metadata": {
        "id": "ROQbsz5P9TBZ"
      },
      "source": [
        "### How to run the code\n",
        "\n",
        "This tutorial is an executable [Jupyter notebook](https://jupyter.org) hosted on [Jovian](https://www.jovian.ai). You can _run_ this tutorial and experiment with the code examples in a couple of ways: *using free online resources* (recommended) or *on your computer*.\n",
        "\n",
        "#### Option 1: Running using free online resources (1-click, recommended)\n",
        "\n",
        "The easiest way to start executing the code is to click the **Run** button at the top of this page and select **Run on Binder**. You can also select \"Run on Colab\" or \"Run on Kaggle\", but you'll need to create an account on [Google Colab](https://colab.research.google.com) or [Kaggle](https://kaggle.com) to use these platforms.\n",
        "\n",
        "\n",
        "#### Option 2: Running on your computer locally\n",
        "\n",
        "To run the code on your computer locally, you'll need to set up [Python](https://www.python.org), download the notebook and install the required libraries. We recommend using the [Conda](https://docs.conda.io/projects/conda/en/latest/user-guide/install/) distribution of Python. Click the **Run** button at the top of this page, select the **Run Locally** option, and follow the instructions.\n",
        "\n",
        ">  **Jupyter Notebooks**: This tutorial is a [Jupyter notebook](https://jupyter.org) - a document made of _cells_. Each cell can contain code written in Python or explanations in plain English. You can execute code cells and view the results, e.g., numbers, messages, graphs, tables, files, etc., instantly within the notebook. Jupyter is a powerful platform for experimentation and analysis. Don't be afraid to mess around with the code & break things - you'll learn a lot by encountering and fixing errors. You can use the \"Kernel > Restart & Clear Output\" menu option to clear all outputs and start again from the top."
      ]
    },
    {
      "cell_type": "markdown",
      "metadata": {
        "id": "0b5D5pX39TBq"
      },
      "source": [
        "## Reading a CSV file using Pandas\n",
        "\n",
        "[Pandas](https://pandas.pydata.org/) is a popular Python library used for working in tabular data (similar to the data stored in a spreadsheet). Pandas provides helper functions to read data from various file formats like CSV, Excel spreadsheets, HTML tables, JSON, SQL, and more. Let's download a file `italy-covid-daywise.txt` which contains day-wise Covid-19 data for Italy in the following format:\n",
        "\n",
        "```\n",
        "date,new_cases,new_deaths,new_tests\n",
        "2020-04-21,2256.0,454.0,28095.0\n",
        "2020-04-22,2729.0,534.0,44248.0\n",
        "2020-04-23,3370.0,437.0,37083.0\n",
        "2020-04-24,2646.0,464.0,95273.0\n",
        "2020-04-25,3021.0,420.0,38676.0\n",
        "2020-04-26,2357.0,415.0,24113.0\n",
        "2020-04-27,2324.0,260.0,26678.0\n",
        "2020-04-28,1739.0,333.0,37554.0\n",
        "...\n",
        "```\n",
        "\n",
        "This format of storing data is known as *comma-separated values* or CSV. \n",
        "\n",
        "> **CSVs**: A comma-separated values (CSV) file is a delimited text file that uses a comma to separate values. Each line of the file is a data record. Each record consists of one or more fields, separated by commas. A CSV file typically stores tabular data (numbers and text) in plain text, in which case each line will have the same number of fields. (Wikipedia)\n",
        "\n",
        "\n",
        "We'll download this file using the `urlretrieve` function from the `urllib.request` module."
      ]
    },
    {
      "cell_type": "code",
      "metadata": {
        "id": "ENAHQR5y9TCG"
      },
      "source": [
        "from urllib.request import urlretrieve"
      ],
      "execution_count": 1,
      "outputs": []
    },
    {
      "cell_type": "code",
      "metadata": {
        "colab": {
          "base_uri": "https://localhost:8080/"
        },
        "id": "7zwE3CVk9TDw",
        "outputId": "975cdb4f-08ab-40ab-e03d-0787986b4092"
      },
      "source": [
        "italy_covid_url = 'https://gist.githubusercontent.com/aakashns/f6a004fa20c84fec53262f9a8bfee775/raw/f309558b1cf5103424cef58e2ecb8704dcd4d74c/italy-covid-daywise.csv'\n",
        "\n",
        "urlretrieve(italy_covid_url, 'italy-covid-daywise.csv')"
      ],
      "execution_count": 2,
      "outputs": [
        {
          "output_type": "execute_result",
          "data": {
            "text/plain": [
              "('italy-covid-daywise.csv', <http.client.HTTPMessage at 0x7facb7e40690>)"
            ]
          },
          "metadata": {},
          "execution_count": 2
        }
      ]
    },
    {
      "cell_type": "markdown",
      "metadata": {
        "id": "8UmFqTKl9TD2"
      },
      "source": [
        "To read the file, we can use the `read_csv` method from Pandas. First, let's install the Pandas library."
      ]
    },
    {
      "cell_type": "code",
      "metadata": {
        "id": "lymQ0aaC9TD3"
      },
      "source": [
        "#!pip install pandas --upgrade --quiet"
      ],
      "execution_count": 3,
      "outputs": []
    },
    {
      "cell_type": "markdown",
      "metadata": {
        "id": "8hYzMBZb9TD4"
      },
      "source": [
        "We can now import the `pandas` module. As a convention, it is imported with the alias `pd`."
      ]
    },
    {
      "cell_type": "code",
      "metadata": {
        "id": "q3Hrpip39TD4"
      },
      "source": [
        "import pandas as pd"
      ],
      "execution_count": 4,
      "outputs": []
    },
    {
      "cell_type": "code",
      "metadata": {
        "id": "JLl02Gp9JhqT"
      },
      "source": [
        "import seaborn as sns"
      ],
      "execution_count": 5,
      "outputs": []
    },
    {
      "cell_type": "code",
      "metadata": {
        "id": "Z28P2tYn9TD5"
      },
      "source": [
        "covid_df = pd.read_csv('italy-covid-daywise.csv')"
      ],
      "execution_count": 6,
      "outputs": []
    },
    {
      "cell_type": "markdown",
      "metadata": {
        "id": "9Zux3Sk29TD5"
      },
      "source": [
        "Data from the file is read and stored in a `DataFrame` object - one of the core data structures in Pandas for storing and working with tabular data. We typically use the `_df` suffix in the variable names for dataframes."
      ]
    },
    {
      "cell_type": "code",
      "metadata": {
        "colab": {
          "base_uri": "https://localhost:8080/"
        },
        "id": "PWP6miZi9TD7",
        "outputId": "36cee47c-0f70-4d75-af01-575830e7e66a"
      },
      "source": [
        "type(covid_df)"
      ],
      "execution_count": 7,
      "outputs": [
        {
          "output_type": "execute_result",
          "data": {
            "text/plain": [
              "pandas.core.frame.DataFrame"
            ]
          },
          "metadata": {},
          "execution_count": 7
        }
      ]
    },
    {
      "cell_type": "code",
      "metadata": {
        "colab": {
          "base_uri": "https://localhost:8080/",
          "height": 419
        },
        "id": "PeTQiQOl9TD9",
        "outputId": "ccf852ae-c00a-49ff-b0e7-058ee483d59c"
      },
      "source": [
        "covid_df"
      ],
      "execution_count": 8,
      "outputs": [
        {
          "output_type": "execute_result",
          "data": {
            "text/html": [
              "<div>\n",
              "<style scoped>\n",
              "    .dataframe tbody tr th:only-of-type {\n",
              "        vertical-align: middle;\n",
              "    }\n",
              "\n",
              "    .dataframe tbody tr th {\n",
              "        vertical-align: top;\n",
              "    }\n",
              "\n",
              "    .dataframe thead th {\n",
              "        text-align: right;\n",
              "    }\n",
              "</style>\n",
              "<table border=\"1\" class=\"dataframe\">\n",
              "  <thead>\n",
              "    <tr style=\"text-align: right;\">\n",
              "      <th></th>\n",
              "      <th>date</th>\n",
              "      <th>new_cases</th>\n",
              "      <th>new_deaths</th>\n",
              "      <th>new_tests</th>\n",
              "    </tr>\n",
              "  </thead>\n",
              "  <tbody>\n",
              "    <tr>\n",
              "      <th>0</th>\n",
              "      <td>2019-12-31</td>\n",
              "      <td>0.0</td>\n",
              "      <td>0.0</td>\n",
              "      <td>NaN</td>\n",
              "    </tr>\n",
              "    <tr>\n",
              "      <th>1</th>\n",
              "      <td>2020-01-01</td>\n",
              "      <td>0.0</td>\n",
              "      <td>0.0</td>\n",
              "      <td>NaN</td>\n",
              "    </tr>\n",
              "    <tr>\n",
              "      <th>2</th>\n",
              "      <td>2020-01-02</td>\n",
              "      <td>0.0</td>\n",
              "      <td>0.0</td>\n",
              "      <td>NaN</td>\n",
              "    </tr>\n",
              "    <tr>\n",
              "      <th>3</th>\n",
              "      <td>2020-01-03</td>\n",
              "      <td>0.0</td>\n",
              "      <td>0.0</td>\n",
              "      <td>NaN</td>\n",
              "    </tr>\n",
              "    <tr>\n",
              "      <th>4</th>\n",
              "      <td>2020-01-04</td>\n",
              "      <td>0.0</td>\n",
              "      <td>0.0</td>\n",
              "      <td>NaN</td>\n",
              "    </tr>\n",
              "    <tr>\n",
              "      <th>...</th>\n",
              "      <td>...</td>\n",
              "      <td>...</td>\n",
              "      <td>...</td>\n",
              "      <td>...</td>\n",
              "    </tr>\n",
              "    <tr>\n",
              "      <th>243</th>\n",
              "      <td>2020-08-30</td>\n",
              "      <td>1444.0</td>\n",
              "      <td>1.0</td>\n",
              "      <td>53541.0</td>\n",
              "    </tr>\n",
              "    <tr>\n",
              "      <th>244</th>\n",
              "      <td>2020-08-31</td>\n",
              "      <td>1365.0</td>\n",
              "      <td>4.0</td>\n",
              "      <td>42583.0</td>\n",
              "    </tr>\n",
              "    <tr>\n",
              "      <th>245</th>\n",
              "      <td>2020-09-01</td>\n",
              "      <td>996.0</td>\n",
              "      <td>6.0</td>\n",
              "      <td>54395.0</td>\n",
              "    </tr>\n",
              "    <tr>\n",
              "      <th>246</th>\n",
              "      <td>2020-09-02</td>\n",
              "      <td>975.0</td>\n",
              "      <td>8.0</td>\n",
              "      <td>NaN</td>\n",
              "    </tr>\n",
              "    <tr>\n",
              "      <th>247</th>\n",
              "      <td>2020-09-03</td>\n",
              "      <td>1326.0</td>\n",
              "      <td>6.0</td>\n",
              "      <td>NaN</td>\n",
              "    </tr>\n",
              "  </tbody>\n",
              "</table>\n",
              "<p>248 rows × 4 columns</p>\n",
              "</div>"
            ],
            "text/plain": [
              "           date  new_cases  new_deaths  new_tests\n",
              "0    2019-12-31        0.0         0.0        NaN\n",
              "1    2020-01-01        0.0         0.0        NaN\n",
              "2    2020-01-02        0.0         0.0        NaN\n",
              "3    2020-01-03        0.0         0.0        NaN\n",
              "4    2020-01-04        0.0         0.0        NaN\n",
              "..          ...        ...         ...        ...\n",
              "243  2020-08-30     1444.0         1.0    53541.0\n",
              "244  2020-08-31     1365.0         4.0    42583.0\n",
              "245  2020-09-01      996.0         6.0    54395.0\n",
              "246  2020-09-02      975.0         8.0        NaN\n",
              "247  2020-09-03     1326.0         6.0        NaN\n",
              "\n",
              "[248 rows x 4 columns]"
            ]
          },
          "metadata": {},
          "execution_count": 8
        }
      ]
    },
    {
      "cell_type": "markdown",
      "metadata": {
        "id": "K_5RQaG79TD_"
      },
      "source": [
        "Here's what we can tell by looking at the dataframe:\n",
        "\n",
        "- The file provides four day-wise counts for COVID-19 in Italy\n",
        "- The metrics reported are new cases, deaths, and tests\n",
        "- Data is provided for 248 days: from Dec 12, 2019, to Sep 3, 2020\n",
        "\n",
        "Keep in mind that these are officially reported numbers. The actual number of cases & deaths may be higher, as not all cases are diagnosed. \n",
        "\n",
        "We can view some basic information about the data frame using the `.info` method."
      ]
    },
    {
      "cell_type": "code",
      "metadata": {
        "colab": {
          "base_uri": "https://localhost:8080/"
        },
        "id": "nM4wCqhN9TEM",
        "outputId": "ba6406d0-23b4-4a73-b909-e325d16282fd"
      },
      "source": [
        "covid_df.info()"
      ],
      "execution_count": 9,
      "outputs": [
        {
          "output_type": "stream",
          "name": "stdout",
          "text": [
            "<class 'pandas.core.frame.DataFrame'>\n",
            "RangeIndex: 248 entries, 0 to 247\n",
            "Data columns (total 4 columns):\n",
            " #   Column      Non-Null Count  Dtype  \n",
            "---  ------      --------------  -----  \n",
            " 0   date        248 non-null    object \n",
            " 1   new_cases   248 non-null    float64\n",
            " 2   new_deaths  248 non-null    float64\n",
            " 3   new_tests   135 non-null    float64\n",
            "dtypes: float64(3), object(1)\n",
            "memory usage: 7.9+ KB\n"
          ]
        }
      ]
    },
    {
      "cell_type": "markdown",
      "metadata": {
        "id": "SmBBKrK69TEN"
      },
      "source": [
        "It appears that each column contains values of a specific data type. You can view statistical information for numerical columns (mean, standard deviation, minimum/maximum values, and the number of non-empty values) using the `.describe` method."
      ]
    },
    {
      "cell_type": "code",
      "metadata": {
        "colab": {
          "base_uri": "https://localhost:8080/",
          "height": 297
        },
        "id": "naKx3Qp49TEO",
        "outputId": "f96113bf-d21a-4e10-fdb4-8b183f5def30"
      },
      "source": [
        "covid_df.describe()"
      ],
      "execution_count": 10,
      "outputs": [
        {
          "output_type": "execute_result",
          "data": {
            "text/html": [
              "<div>\n",
              "<style scoped>\n",
              "    .dataframe tbody tr th:only-of-type {\n",
              "        vertical-align: middle;\n",
              "    }\n",
              "\n",
              "    .dataframe tbody tr th {\n",
              "        vertical-align: top;\n",
              "    }\n",
              "\n",
              "    .dataframe thead th {\n",
              "        text-align: right;\n",
              "    }\n",
              "</style>\n",
              "<table border=\"1\" class=\"dataframe\">\n",
              "  <thead>\n",
              "    <tr style=\"text-align: right;\">\n",
              "      <th></th>\n",
              "      <th>new_cases</th>\n",
              "      <th>new_deaths</th>\n",
              "      <th>new_tests</th>\n",
              "    </tr>\n",
              "  </thead>\n",
              "  <tbody>\n",
              "    <tr>\n",
              "      <th>count</th>\n",
              "      <td>248.000000</td>\n",
              "      <td>248.000000</td>\n",
              "      <td>135.000000</td>\n",
              "    </tr>\n",
              "    <tr>\n",
              "      <th>mean</th>\n",
              "      <td>1094.818548</td>\n",
              "      <td>143.133065</td>\n",
              "      <td>31699.674074</td>\n",
              "    </tr>\n",
              "    <tr>\n",
              "      <th>std</th>\n",
              "      <td>1554.508002</td>\n",
              "      <td>227.105538</td>\n",
              "      <td>11622.209757</td>\n",
              "    </tr>\n",
              "    <tr>\n",
              "      <th>min</th>\n",
              "      <td>-148.000000</td>\n",
              "      <td>-31.000000</td>\n",
              "      <td>7841.000000</td>\n",
              "    </tr>\n",
              "    <tr>\n",
              "      <th>25%</th>\n",
              "      <td>123.000000</td>\n",
              "      <td>3.000000</td>\n",
              "      <td>25259.000000</td>\n",
              "    </tr>\n",
              "    <tr>\n",
              "      <th>50%</th>\n",
              "      <td>342.000000</td>\n",
              "      <td>17.000000</td>\n",
              "      <td>29545.000000</td>\n",
              "    </tr>\n",
              "    <tr>\n",
              "      <th>75%</th>\n",
              "      <td>1371.750000</td>\n",
              "      <td>175.250000</td>\n",
              "      <td>37711.000000</td>\n",
              "    </tr>\n",
              "    <tr>\n",
              "      <th>max</th>\n",
              "      <td>6557.000000</td>\n",
              "      <td>971.000000</td>\n",
              "      <td>95273.000000</td>\n",
              "    </tr>\n",
              "  </tbody>\n",
              "</table>\n",
              "</div>"
            ],
            "text/plain": [
              "         new_cases  new_deaths     new_tests\n",
              "count   248.000000  248.000000    135.000000\n",
              "mean   1094.818548  143.133065  31699.674074\n",
              "std    1554.508002  227.105538  11622.209757\n",
              "min    -148.000000  -31.000000   7841.000000\n",
              "25%     123.000000    3.000000  25259.000000\n",
              "50%     342.000000   17.000000  29545.000000\n",
              "75%    1371.750000  175.250000  37711.000000\n",
              "max    6557.000000  971.000000  95273.000000"
            ]
          },
          "metadata": {},
          "execution_count": 10
        }
      ]
    },
    {
      "cell_type": "markdown",
      "metadata": {
        "id": "pXFVuGeM9TEO"
      },
      "source": [
        "The `columns` property contains the list of columns within the data frame."
      ]
    },
    {
      "cell_type": "code",
      "metadata": {
        "colab": {
          "base_uri": "https://localhost:8080/"
        },
        "id": "AJQITmgm9TER",
        "outputId": "e45a0b97-1eba-4b88-88d7-c142b7fc426e"
      },
      "source": [
        "covid_df.columns"
      ],
      "execution_count": 11,
      "outputs": [
        {
          "output_type": "execute_result",
          "data": {
            "text/plain": [
              "Index(['date', 'new_cases', 'new_deaths', 'new_tests'], dtype='object')"
            ]
          },
          "metadata": {},
          "execution_count": 11
        }
      ]
    },
    {
      "cell_type": "markdown",
      "metadata": {
        "id": "DnGi9DjP9TER"
      },
      "source": [
        "You can also retrieve the number of rows and columns in the data frame using the `.shape` method."
      ]
    },
    {
      "cell_type": "code",
      "metadata": {
        "colab": {
          "base_uri": "https://localhost:8080/"
        },
        "id": "QGOwKr539TES",
        "outputId": "600da71e-1c04-4b79-8bd4-729b84149944"
      },
      "source": [
        "covid_df.shape"
      ],
      "execution_count": 12,
      "outputs": [
        {
          "output_type": "execute_result",
          "data": {
            "text/plain": [
              "(248, 4)"
            ]
          },
          "metadata": {},
          "execution_count": 12
        }
      ]
    },
    {
      "cell_type": "markdown",
      "metadata": {
        "id": "xvs42Yrt9TEW"
      },
      "source": [
        "Here's a summary of the functions & methods we've looked at so far:\n",
        "\n",
        "* `pd.read_csv` - Read data from a CSV file into a Pandas `DataFrame` object\n",
        "* `.info()` - View basic infomation about rows, columns & data types\n",
        "* `.describe()` - View statistical information about numeric columns\n",
        "* `.columns` - Get the list of column names\n",
        "* `.shape` - Get the number of rows & columns as a tuple\n"
      ]
    },
    {
      "cell_type": "markdown",
      "metadata": {
        "id": "fAZNAWl49TEY"
      },
      "source": [
        "## Retrieving data from a data frame\n",
        "\n",
        "The first thing you might want to do is retrieve data from this data frame, e.g., the counts of a specific day or the list of values in a particular column. To do this, it might help to understand the internal representation of data in a data frame. Conceptually, you can think of a dataframe as a dictionary of lists: keys are column names, and values are lists/arrays containing data for the respective columns. "
      ]
    },
    {
      "cell_type": "code",
      "metadata": {
        "id": "FlztEwfb9TEY"
      },
      "source": [
        "# Pandas format is simliar to this\n",
        "covid_data_dict = {\n",
        "    'date':       ['2020-08-30', '2020-08-31', '2020-09-01', '2020-09-02', '2020-09-03'],\n",
        "    'new_cases':  [1444, 1365, 996, 975, 1326],\n",
        "    'new_deaths': [1, 4, 6, 8, 6],\n",
        "    'new_tests': [53541, 42583, 54395, None, None]\n",
        "}"
      ],
      "execution_count": 13,
      "outputs": []
    },
    {
      "cell_type": "markdown",
      "metadata": {
        "id": "Sg_Z7Izc9TEh"
      },
      "source": [
        "Representing data in the above format has a few benefits:\n",
        "\n",
        "* All values in a column typically have the same type of value, so it's more efficient to store them in a single array.\n",
        "* Retrieving the values for a particular row simply requires extracting the elements at a given index from each column array.\n",
        "* The representation is more compact (column names are recorded only once) compared to other formats that use a dictionary for each row of data (see the example below)."
      ]
    },
    {
      "cell_type": "code",
      "metadata": {
        "id": "N0d2ugKU9TEh"
      },
      "source": [
        "# Pandas format is not similar to this\n",
        "covid_data_list = [\n",
        "    {'date': '2020-08-30', 'new_cases': 1444, 'new_deaths': 1, 'new_tests': 53541},\n",
        "    {'date': '2020-08-31', 'new_cases': 1365, 'new_deaths': 4, 'new_tests': 42583},\n",
        "    {'date': '2020-09-01', 'new_cases': 996, 'new_deaths': 6, 'new_tests': 54395},\n",
        "    {'date': '2020-09-02', 'new_cases': 975, 'new_deaths': 8 },\n",
        "    {'date': '2020-09-03', 'new_cases': 1326, 'new_deaths': 6},\n",
        "]"
      ],
      "execution_count": 14,
      "outputs": []
    },
    {
      "cell_type": "markdown",
      "metadata": {
        "id": "ZqjHR6gu9TEi"
      },
      "source": [
        "With the dictionary of lists analogy in mind, you can now guess how to retrieve data from a data frame. For example, we can get a list of values from a specific column using the `[]` indexing notation."
      ]
    },
    {
      "cell_type": "code",
      "metadata": {
        "colab": {
          "base_uri": "https://localhost:8080/"
        },
        "id": "3-KsCa9p9TEi",
        "outputId": "bc507670-9bf6-422e-f4d9-9d4cd5d16088"
      },
      "source": [
        "covid_data_dict['new_cases']"
      ],
      "execution_count": 15,
      "outputs": [
        {
          "output_type": "execute_result",
          "data": {
            "text/plain": [
              "[1444, 1365, 996, 975, 1326]"
            ]
          },
          "metadata": {},
          "execution_count": 15
        }
      ]
    },
    {
      "cell_type": "code",
      "metadata": {
        "colab": {
          "base_uri": "https://localhost:8080/"
        },
        "id": "d4J0JLbG9TEw",
        "outputId": "8991d152-9741-4841-8aaf-9ead2d5dbac9"
      },
      "source": [
        "covid_df['new_cases']"
      ],
      "execution_count": 16,
      "outputs": [
        {
          "output_type": "execute_result",
          "data": {
            "text/plain": [
              "0         0.0\n",
              "1         0.0\n",
              "2         0.0\n",
              "3         0.0\n",
              "4         0.0\n",
              "        ...  \n",
              "243    1444.0\n",
              "244    1365.0\n",
              "245     996.0\n",
              "246     975.0\n",
              "247    1326.0\n",
              "Name: new_cases, Length: 248, dtype: float64"
            ]
          },
          "metadata": {},
          "execution_count": 16
        }
      ]
    },
    {
      "cell_type": "markdown",
      "metadata": {
        "id": "-NZwiHBP9TEy"
      },
      "source": [
        "Each column is represented using a data structure called `Series`, which is essentially a numpy array with some extra methods and properties."
      ]
    },
    {
      "cell_type": "code",
      "metadata": {
        "colab": {
          "base_uri": "https://localhost:8080/"
        },
        "id": "c2ybVGjL9TFI",
        "outputId": "d6038568-cd66-4a7a-f30f-e2376764a621"
      },
      "source": [
        "type(covid_df['new_cases'])"
      ],
      "execution_count": 17,
      "outputs": [
        {
          "output_type": "execute_result",
          "data": {
            "text/plain": [
              "pandas.core.series.Series"
            ]
          },
          "metadata": {},
          "execution_count": 17
        }
      ]
    },
    {
      "cell_type": "markdown",
      "metadata": {
        "id": "0NsxSofy9TFJ"
      },
      "source": [
        "Like arrays, you can retrieve a specific value with a series using the indexing notation `[]`."
      ]
    },
    {
      "cell_type": "code",
      "metadata": {
        "id": "sXt6utgi9TFJ",
        "colab": {
          "base_uri": "https://localhost:8080/"
        },
        "outputId": "813a76cc-278a-43bc-a8fc-8ea1de344d56"
      },
      "source": [
        "covid_df['new_cases'][246]"
      ],
      "execution_count": 18,
      "outputs": [
        {
          "output_type": "execute_result",
          "data": {
            "text/plain": [
              "975.0"
            ]
          },
          "metadata": {},
          "execution_count": 18
        }
      ]
    },
    {
      "cell_type": "code",
      "metadata": {
        "id": "Uk8AU_Ia9TFq",
        "colab": {
          "base_uri": "https://localhost:8080/"
        },
        "outputId": "abf8d807-1cee-4345-d647-57fa4b47d75a"
      },
      "source": [
        "covid_df['new_tests'][240]"
      ],
      "execution_count": 19,
      "outputs": [
        {
          "output_type": "execute_result",
          "data": {
            "text/plain": [
              "57640.0"
            ]
          },
          "metadata": {},
          "execution_count": 19
        }
      ]
    },
    {
      "cell_type": "markdown",
      "metadata": {
        "id": "F-ZaCklX9TFr"
      },
      "source": [
        "Pandas also provides the `.at` method to retrieve the element at a specific row & column directly."
      ]
    },
    {
      "cell_type": "code",
      "metadata": {
        "id": "X9UOC9929TF9",
        "colab": {
          "base_uri": "https://localhost:8080/"
        },
        "outputId": "a0e5c2f2-25f1-45b1-f91b-4b10118bd77d"
      },
      "source": [
        "covid_df.at[246, 'new_cases']"
      ],
      "execution_count": 20,
      "outputs": [
        {
          "output_type": "execute_result",
          "data": {
            "text/plain": [
              "975.0"
            ]
          },
          "metadata": {},
          "execution_count": 20
        }
      ]
    },
    {
      "cell_type": "code",
      "metadata": {
        "id": "To4mMdP-9TF_",
        "colab": {
          "base_uri": "https://localhost:8080/"
        },
        "outputId": "c92ac0d3-2bf2-4519-e70f-41f57d04f3a0"
      },
      "source": [
        "covid_df.at[240, 'new_tests']"
      ],
      "execution_count": 21,
      "outputs": [
        {
          "output_type": "execute_result",
          "data": {
            "text/plain": [
              "57640.0"
            ]
          },
          "metadata": {},
          "execution_count": 21
        }
      ]
    },
    {
      "cell_type": "markdown",
      "metadata": {
        "id": "i9jIxzyu9TGA"
      },
      "source": [
        "Instead of using the indexing notation `[]`, Pandas also allows accessing columns as properties of the dataframe using the `.` notation. However, this method only works for columns whose names do not contain spaces or special characters."
      ]
    },
    {
      "cell_type": "code",
      "metadata": {
        "colab": {
          "base_uri": "https://localhost:8080/"
        },
        "id": "tO8KjwCD9TGB",
        "outputId": "2341de3c-0e76-4235-bd45-b8682197eab0"
      },
      "source": [
        "covid_df.new_cases"
      ],
      "execution_count": 22,
      "outputs": [
        {
          "output_type": "execute_result",
          "data": {
            "text/plain": [
              "0         0.0\n",
              "1         0.0\n",
              "2         0.0\n",
              "3         0.0\n",
              "4         0.0\n",
              "        ...  \n",
              "243    1444.0\n",
              "244    1365.0\n",
              "245     996.0\n",
              "246     975.0\n",
              "247    1326.0\n",
              "Name: new_cases, Length: 248, dtype: float64"
            ]
          },
          "metadata": {},
          "execution_count": 22
        }
      ]
    },
    {
      "cell_type": "markdown",
      "metadata": {
        "id": "meeLh5Uh9TGb"
      },
      "source": [
        "Further, you can also pass a list of columns within the indexing notation `[]` to access a subset of the data frame with just the given columns."
      ]
    },
    {
      "cell_type": "code",
      "metadata": {
        "colab": {
          "base_uri": "https://localhost:8080/",
          "height": 419
        },
        "id": "8J9Ewus09TGb",
        "outputId": "77d83648-cb55-441c-d9d1-e3cac744f4d2"
      },
      "source": [
        "cases_df = covid_df[['date', 'new_cases']]\n",
        "cases_df"
      ],
      "execution_count": 23,
      "outputs": [
        {
          "output_type": "execute_result",
          "data": {
            "text/html": [
              "<div>\n",
              "<style scoped>\n",
              "    .dataframe tbody tr th:only-of-type {\n",
              "        vertical-align: middle;\n",
              "    }\n",
              "\n",
              "    .dataframe tbody tr th {\n",
              "        vertical-align: top;\n",
              "    }\n",
              "\n",
              "    .dataframe thead th {\n",
              "        text-align: right;\n",
              "    }\n",
              "</style>\n",
              "<table border=\"1\" class=\"dataframe\">\n",
              "  <thead>\n",
              "    <tr style=\"text-align: right;\">\n",
              "      <th></th>\n",
              "      <th>date</th>\n",
              "      <th>new_cases</th>\n",
              "    </tr>\n",
              "  </thead>\n",
              "  <tbody>\n",
              "    <tr>\n",
              "      <th>0</th>\n",
              "      <td>2019-12-31</td>\n",
              "      <td>0.0</td>\n",
              "    </tr>\n",
              "    <tr>\n",
              "      <th>1</th>\n",
              "      <td>2020-01-01</td>\n",
              "      <td>0.0</td>\n",
              "    </tr>\n",
              "    <tr>\n",
              "      <th>2</th>\n",
              "      <td>2020-01-02</td>\n",
              "      <td>0.0</td>\n",
              "    </tr>\n",
              "    <tr>\n",
              "      <th>3</th>\n",
              "      <td>2020-01-03</td>\n",
              "      <td>0.0</td>\n",
              "    </tr>\n",
              "    <tr>\n",
              "      <th>4</th>\n",
              "      <td>2020-01-04</td>\n",
              "      <td>0.0</td>\n",
              "    </tr>\n",
              "    <tr>\n",
              "      <th>...</th>\n",
              "      <td>...</td>\n",
              "      <td>...</td>\n",
              "    </tr>\n",
              "    <tr>\n",
              "      <th>243</th>\n",
              "      <td>2020-08-30</td>\n",
              "      <td>1444.0</td>\n",
              "    </tr>\n",
              "    <tr>\n",
              "      <th>244</th>\n",
              "      <td>2020-08-31</td>\n",
              "      <td>1365.0</td>\n",
              "    </tr>\n",
              "    <tr>\n",
              "      <th>245</th>\n",
              "      <td>2020-09-01</td>\n",
              "      <td>996.0</td>\n",
              "    </tr>\n",
              "    <tr>\n",
              "      <th>246</th>\n",
              "      <td>2020-09-02</td>\n",
              "      <td>975.0</td>\n",
              "    </tr>\n",
              "    <tr>\n",
              "      <th>247</th>\n",
              "      <td>2020-09-03</td>\n",
              "      <td>1326.0</td>\n",
              "    </tr>\n",
              "  </tbody>\n",
              "</table>\n",
              "<p>248 rows × 2 columns</p>\n",
              "</div>"
            ],
            "text/plain": [
              "           date  new_cases\n",
              "0    2019-12-31        0.0\n",
              "1    2020-01-01        0.0\n",
              "2    2020-01-02        0.0\n",
              "3    2020-01-03        0.0\n",
              "4    2020-01-04        0.0\n",
              "..          ...        ...\n",
              "243  2020-08-30     1444.0\n",
              "244  2020-08-31     1365.0\n",
              "245  2020-09-01      996.0\n",
              "246  2020-09-02      975.0\n",
              "247  2020-09-03     1326.0\n",
              "\n",
              "[248 rows x 2 columns]"
            ]
          },
          "metadata": {},
          "execution_count": 23
        }
      ]
    },
    {
      "cell_type": "markdown",
      "metadata": {
        "id": "6-ENvKJo9TGc"
      },
      "source": [
        "The new data frame `cases_df` is simply a \"view\" of the original data frame `covid_df`. Both point to the same data in the computer's memory. Changing any values inside one of them will also change the respective values in the other. Sharing data between data frames makes data manipulation in Pandas blazing fast. You needn't worry about the overhead of copying thousands or millions of rows every time you want to create a new data frame by operating on an existing one.\n",
        "\n",
        "Sometimes you might need a full copy of the data frame, in which case you can use the `copy` method."
      ]
    },
    {
      "cell_type": "code",
      "metadata": {
        "id": "F3MluNNh9TGc"
      },
      "source": [
        "covid_df_copy = covid_df.copy()"
      ],
      "execution_count": 24,
      "outputs": []
    },
    {
      "cell_type": "markdown",
      "metadata": {
        "id": "nXWRPxrZ9TGc"
      },
      "source": [
        "The data within `covid_df_copy` is completely separate from `covid_df`, and changing values inside one of them will not affect the other."
      ]
    },
    {
      "cell_type": "markdown",
      "metadata": {
        "id": "G92-SSYQ9TGi"
      },
      "source": [
        "To access a specific row of data, Pandas provides the `.loc` method."
      ]
    },
    {
      "cell_type": "code",
      "metadata": {
        "colab": {
          "base_uri": "https://localhost:8080/",
          "height": 419
        },
        "id": "55Oyq2Cp9TGj",
        "outputId": "ad0c6421-ddb4-4832-eca6-5c7cef37c6e9"
      },
      "source": [
        "covid_df"
      ],
      "execution_count": 25,
      "outputs": [
        {
          "output_type": "execute_result",
          "data": {
            "text/html": [
              "<div>\n",
              "<style scoped>\n",
              "    .dataframe tbody tr th:only-of-type {\n",
              "        vertical-align: middle;\n",
              "    }\n",
              "\n",
              "    .dataframe tbody tr th {\n",
              "        vertical-align: top;\n",
              "    }\n",
              "\n",
              "    .dataframe thead th {\n",
              "        text-align: right;\n",
              "    }\n",
              "</style>\n",
              "<table border=\"1\" class=\"dataframe\">\n",
              "  <thead>\n",
              "    <tr style=\"text-align: right;\">\n",
              "      <th></th>\n",
              "      <th>date</th>\n",
              "      <th>new_cases</th>\n",
              "      <th>new_deaths</th>\n",
              "      <th>new_tests</th>\n",
              "    </tr>\n",
              "  </thead>\n",
              "  <tbody>\n",
              "    <tr>\n",
              "      <th>0</th>\n",
              "      <td>2019-12-31</td>\n",
              "      <td>0.0</td>\n",
              "      <td>0.0</td>\n",
              "      <td>NaN</td>\n",
              "    </tr>\n",
              "    <tr>\n",
              "      <th>1</th>\n",
              "      <td>2020-01-01</td>\n",
              "      <td>0.0</td>\n",
              "      <td>0.0</td>\n",
              "      <td>NaN</td>\n",
              "    </tr>\n",
              "    <tr>\n",
              "      <th>2</th>\n",
              "      <td>2020-01-02</td>\n",
              "      <td>0.0</td>\n",
              "      <td>0.0</td>\n",
              "      <td>NaN</td>\n",
              "    </tr>\n",
              "    <tr>\n",
              "      <th>3</th>\n",
              "      <td>2020-01-03</td>\n",
              "      <td>0.0</td>\n",
              "      <td>0.0</td>\n",
              "      <td>NaN</td>\n",
              "    </tr>\n",
              "    <tr>\n",
              "      <th>4</th>\n",
              "      <td>2020-01-04</td>\n",
              "      <td>0.0</td>\n",
              "      <td>0.0</td>\n",
              "      <td>NaN</td>\n",
              "    </tr>\n",
              "    <tr>\n",
              "      <th>...</th>\n",
              "      <td>...</td>\n",
              "      <td>...</td>\n",
              "      <td>...</td>\n",
              "      <td>...</td>\n",
              "    </tr>\n",
              "    <tr>\n",
              "      <th>243</th>\n",
              "      <td>2020-08-30</td>\n",
              "      <td>1444.0</td>\n",
              "      <td>1.0</td>\n",
              "      <td>53541.0</td>\n",
              "    </tr>\n",
              "    <tr>\n",
              "      <th>244</th>\n",
              "      <td>2020-08-31</td>\n",
              "      <td>1365.0</td>\n",
              "      <td>4.0</td>\n",
              "      <td>42583.0</td>\n",
              "    </tr>\n",
              "    <tr>\n",
              "      <th>245</th>\n",
              "      <td>2020-09-01</td>\n",
              "      <td>996.0</td>\n",
              "      <td>6.0</td>\n",
              "      <td>54395.0</td>\n",
              "    </tr>\n",
              "    <tr>\n",
              "      <th>246</th>\n",
              "      <td>2020-09-02</td>\n",
              "      <td>975.0</td>\n",
              "      <td>8.0</td>\n",
              "      <td>NaN</td>\n",
              "    </tr>\n",
              "    <tr>\n",
              "      <th>247</th>\n",
              "      <td>2020-09-03</td>\n",
              "      <td>1326.0</td>\n",
              "      <td>6.0</td>\n",
              "      <td>NaN</td>\n",
              "    </tr>\n",
              "  </tbody>\n",
              "</table>\n",
              "<p>248 rows × 4 columns</p>\n",
              "</div>"
            ],
            "text/plain": [
              "           date  new_cases  new_deaths  new_tests\n",
              "0    2019-12-31        0.0         0.0        NaN\n",
              "1    2020-01-01        0.0         0.0        NaN\n",
              "2    2020-01-02        0.0         0.0        NaN\n",
              "3    2020-01-03        0.0         0.0        NaN\n",
              "4    2020-01-04        0.0         0.0        NaN\n",
              "..          ...        ...         ...        ...\n",
              "243  2020-08-30     1444.0         1.0    53541.0\n",
              "244  2020-08-31     1365.0         4.0    42583.0\n",
              "245  2020-09-01      996.0         6.0    54395.0\n",
              "246  2020-09-02      975.0         8.0        NaN\n",
              "247  2020-09-03     1326.0         6.0        NaN\n",
              "\n",
              "[248 rows x 4 columns]"
            ]
          },
          "metadata": {},
          "execution_count": 25
        }
      ]
    },
    {
      "cell_type": "code",
      "metadata": {
        "colab": {
          "base_uri": "https://localhost:8080/"
        },
        "id": "WxouIBaV9TGm",
        "outputId": "b5185dbf-133c-4f27-b151-9cf97a14fb38"
      },
      "source": [
        "covid_df.loc[243]"
      ],
      "execution_count": 26,
      "outputs": [
        {
          "output_type": "execute_result",
          "data": {
            "text/plain": [
              "date          2020-08-30\n",
              "new_cases           1444\n",
              "new_deaths             1\n",
              "new_tests          53541\n",
              "Name: 243, dtype: object"
            ]
          },
          "metadata": {},
          "execution_count": 26
        }
      ]
    },
    {
      "cell_type": "markdown",
      "metadata": {
        "id": "ubD0-yuq9TGx"
      },
      "source": [
        "Each retrieved row is also a `Series` object."
      ]
    },
    {
      "cell_type": "code",
      "metadata": {
        "colab": {
          "base_uri": "https://localhost:8080/"
        },
        "id": "NfcF_B4J9TGx",
        "outputId": "cd01a6b4-6cd9-4ef3-89ac-05ee5949455e"
      },
      "source": [
        "type(covid_df.loc[243])"
      ],
      "execution_count": 27,
      "outputs": [
        {
          "output_type": "execute_result",
          "data": {
            "text/plain": [
              "pandas.core.series.Series"
            ]
          },
          "metadata": {},
          "execution_count": 27
        }
      ]
    },
    {
      "cell_type": "markdown",
      "metadata": {
        "id": "EF9gIdwq9TGx"
      },
      "source": [
        "We can use the `.head` and `.tail` methods to view the first or last few rows of data."
      ]
    },
    {
      "cell_type": "code",
      "metadata": {
        "colab": {
          "base_uri": "https://localhost:8080/",
          "height": 204
        },
        "id": "pUvzx0569TGz",
        "outputId": "499be039-6480-47dd-f621-51f70c3a608b"
      },
      "source": [
        "covid_df.head(5)"
      ],
      "execution_count": 28,
      "outputs": [
        {
          "output_type": "execute_result",
          "data": {
            "text/html": [
              "<div>\n",
              "<style scoped>\n",
              "    .dataframe tbody tr th:only-of-type {\n",
              "        vertical-align: middle;\n",
              "    }\n",
              "\n",
              "    .dataframe tbody tr th {\n",
              "        vertical-align: top;\n",
              "    }\n",
              "\n",
              "    .dataframe thead th {\n",
              "        text-align: right;\n",
              "    }\n",
              "</style>\n",
              "<table border=\"1\" class=\"dataframe\">\n",
              "  <thead>\n",
              "    <tr style=\"text-align: right;\">\n",
              "      <th></th>\n",
              "      <th>date</th>\n",
              "      <th>new_cases</th>\n",
              "      <th>new_deaths</th>\n",
              "      <th>new_tests</th>\n",
              "    </tr>\n",
              "  </thead>\n",
              "  <tbody>\n",
              "    <tr>\n",
              "      <th>0</th>\n",
              "      <td>2019-12-31</td>\n",
              "      <td>0.0</td>\n",
              "      <td>0.0</td>\n",
              "      <td>NaN</td>\n",
              "    </tr>\n",
              "    <tr>\n",
              "      <th>1</th>\n",
              "      <td>2020-01-01</td>\n",
              "      <td>0.0</td>\n",
              "      <td>0.0</td>\n",
              "      <td>NaN</td>\n",
              "    </tr>\n",
              "    <tr>\n",
              "      <th>2</th>\n",
              "      <td>2020-01-02</td>\n",
              "      <td>0.0</td>\n",
              "      <td>0.0</td>\n",
              "      <td>NaN</td>\n",
              "    </tr>\n",
              "    <tr>\n",
              "      <th>3</th>\n",
              "      <td>2020-01-03</td>\n",
              "      <td>0.0</td>\n",
              "      <td>0.0</td>\n",
              "      <td>NaN</td>\n",
              "    </tr>\n",
              "    <tr>\n",
              "      <th>4</th>\n",
              "      <td>2020-01-04</td>\n",
              "      <td>0.0</td>\n",
              "      <td>0.0</td>\n",
              "      <td>NaN</td>\n",
              "    </tr>\n",
              "  </tbody>\n",
              "</table>\n",
              "</div>"
            ],
            "text/plain": [
              "         date  new_cases  new_deaths  new_tests\n",
              "0  2019-12-31        0.0         0.0        NaN\n",
              "1  2020-01-01        0.0         0.0        NaN\n",
              "2  2020-01-02        0.0         0.0        NaN\n",
              "3  2020-01-03        0.0         0.0        NaN\n",
              "4  2020-01-04        0.0         0.0        NaN"
            ]
          },
          "metadata": {},
          "execution_count": 28
        }
      ]
    },
    {
      "cell_type": "code",
      "metadata": {
        "colab": {
          "base_uri": "https://localhost:8080/",
          "height": 173
        },
        "id": "XnKegfqe9TG0",
        "outputId": "86ac4664-bc3f-4c76-a42f-c3814674682f"
      },
      "source": [
        "covid_df.tail(4)"
      ],
      "execution_count": 29,
      "outputs": [
        {
          "output_type": "execute_result",
          "data": {
            "text/html": [
              "<div>\n",
              "<style scoped>\n",
              "    .dataframe tbody tr th:only-of-type {\n",
              "        vertical-align: middle;\n",
              "    }\n",
              "\n",
              "    .dataframe tbody tr th {\n",
              "        vertical-align: top;\n",
              "    }\n",
              "\n",
              "    .dataframe thead th {\n",
              "        text-align: right;\n",
              "    }\n",
              "</style>\n",
              "<table border=\"1\" class=\"dataframe\">\n",
              "  <thead>\n",
              "    <tr style=\"text-align: right;\">\n",
              "      <th></th>\n",
              "      <th>date</th>\n",
              "      <th>new_cases</th>\n",
              "      <th>new_deaths</th>\n",
              "      <th>new_tests</th>\n",
              "    </tr>\n",
              "  </thead>\n",
              "  <tbody>\n",
              "    <tr>\n",
              "      <th>244</th>\n",
              "      <td>2020-08-31</td>\n",
              "      <td>1365.0</td>\n",
              "      <td>4.0</td>\n",
              "      <td>42583.0</td>\n",
              "    </tr>\n",
              "    <tr>\n",
              "      <th>245</th>\n",
              "      <td>2020-09-01</td>\n",
              "      <td>996.0</td>\n",
              "      <td>6.0</td>\n",
              "      <td>54395.0</td>\n",
              "    </tr>\n",
              "    <tr>\n",
              "      <th>246</th>\n",
              "      <td>2020-09-02</td>\n",
              "      <td>975.0</td>\n",
              "      <td>8.0</td>\n",
              "      <td>NaN</td>\n",
              "    </tr>\n",
              "    <tr>\n",
              "      <th>247</th>\n",
              "      <td>2020-09-03</td>\n",
              "      <td>1326.0</td>\n",
              "      <td>6.0</td>\n",
              "      <td>NaN</td>\n",
              "    </tr>\n",
              "  </tbody>\n",
              "</table>\n",
              "</div>"
            ],
            "text/plain": [
              "           date  new_cases  new_deaths  new_tests\n",
              "244  2020-08-31     1365.0         4.0    42583.0\n",
              "245  2020-09-01      996.0         6.0    54395.0\n",
              "246  2020-09-02      975.0         8.0        NaN\n",
              "247  2020-09-03     1326.0         6.0        NaN"
            ]
          },
          "metadata": {},
          "execution_count": 29
        }
      ]
    },
    {
      "cell_type": "markdown",
      "metadata": {
        "id": "wYwF7Ql29TG1"
      },
      "source": [
        "Notice above that while the first few values in the `new_cases` and `new_deaths` columns are `0`, the corresponding values within the `new_tests` column are `NaN`. That is because the CSV file does not contain any data for the `new_tests` column for specific dates (you can verify this by looking into the file). These values may be missing or unknown."
      ]
    },
    {
      "cell_type": "code",
      "metadata": {
        "id": "bjAuYEYF9TG1",
        "colab": {
          "base_uri": "https://localhost:8080/"
        },
        "outputId": "ad05964c-9273-468e-f390-0a366f90d5da"
      },
      "source": [
        "covid_df.at[0, 'new_tests']"
      ],
      "execution_count": 30,
      "outputs": [
        {
          "output_type": "execute_result",
          "data": {
            "text/plain": [
              "nan"
            ]
          },
          "metadata": {},
          "execution_count": 30
        }
      ]
    },
    {
      "cell_type": "code",
      "metadata": {
        "id": "CsVlGYqN9TG1",
        "colab": {
          "base_uri": "https://localhost:8080/"
        },
        "outputId": "078747db-77c8-4b6e-a5ea-4c427295618e"
      },
      "source": [
        "type(covid_df.at[0, 'new_tests'])"
      ],
      "execution_count": 31,
      "outputs": [
        {
          "output_type": "execute_result",
          "data": {
            "text/plain": [
              "numpy.float64"
            ]
          },
          "metadata": {},
          "execution_count": 31
        }
      ]
    },
    {
      "cell_type": "markdown",
      "metadata": {
        "id": "_qBGedLY9TG2"
      },
      "source": [
        "The distinction between `0` and `NaN` is subtle but important. In this dataset, it represents that daily test numbers were not reported on specific dates. Italy started reporting daily tests on Apr 19, 2020. 93,5310 tests had already been conducted before Apr 19. \n",
        "\n",
        "We can find the first index that doesn't contain a `NaN` value using a column's `first_valid_index` method."
      ]
    },
    {
      "cell_type": "code",
      "metadata": {
        "id": "uNUlDTKQ9TG-",
        "colab": {
          "base_uri": "https://localhost:8080/"
        },
        "outputId": "17257046-5310-412a-f200-4e74a93912b5"
      },
      "source": [
        "covid_df.new_tests.first_valid_index()"
      ],
      "execution_count": 32,
      "outputs": [
        {
          "output_type": "execute_result",
          "data": {
            "text/plain": [
              "111"
            ]
          },
          "metadata": {},
          "execution_count": 32
        }
      ]
    },
    {
      "cell_type": "markdown",
      "metadata": {
        "id": "9BsNSXgb9TG-"
      },
      "source": [
        "Let's look at a few rows before and after this index to verify that the values change from `NaN` to actual numbers. We can do this by passing a range to `loc`."
      ]
    },
    {
      "cell_type": "code",
      "metadata": {
        "id": "e2-oAIPl9TG_",
        "colab": {
          "base_uri": "https://localhost:8080/",
          "height": 235
        },
        "outputId": "a38cea2d-a7d7-48c4-8332-f28901dedcc9"
      },
      "source": [
        "covid_df.loc[108:113]"
      ],
      "execution_count": 33,
      "outputs": [
        {
          "output_type": "execute_result",
          "data": {
            "text/html": [
              "<div>\n",
              "<style scoped>\n",
              "    .dataframe tbody tr th:only-of-type {\n",
              "        vertical-align: middle;\n",
              "    }\n",
              "\n",
              "    .dataframe tbody tr th {\n",
              "        vertical-align: top;\n",
              "    }\n",
              "\n",
              "    .dataframe thead th {\n",
              "        text-align: right;\n",
              "    }\n",
              "</style>\n",
              "<table border=\"1\" class=\"dataframe\">\n",
              "  <thead>\n",
              "    <tr style=\"text-align: right;\">\n",
              "      <th></th>\n",
              "      <th>date</th>\n",
              "      <th>new_cases</th>\n",
              "      <th>new_deaths</th>\n",
              "      <th>new_tests</th>\n",
              "    </tr>\n",
              "  </thead>\n",
              "  <tbody>\n",
              "    <tr>\n",
              "      <th>108</th>\n",
              "      <td>2020-04-17</td>\n",
              "      <td>3786.0</td>\n",
              "      <td>525.0</td>\n",
              "      <td>NaN</td>\n",
              "    </tr>\n",
              "    <tr>\n",
              "      <th>109</th>\n",
              "      <td>2020-04-18</td>\n",
              "      <td>3493.0</td>\n",
              "      <td>575.0</td>\n",
              "      <td>NaN</td>\n",
              "    </tr>\n",
              "    <tr>\n",
              "      <th>110</th>\n",
              "      <td>2020-04-19</td>\n",
              "      <td>3491.0</td>\n",
              "      <td>480.0</td>\n",
              "      <td>NaN</td>\n",
              "    </tr>\n",
              "    <tr>\n",
              "      <th>111</th>\n",
              "      <td>2020-04-20</td>\n",
              "      <td>3047.0</td>\n",
              "      <td>433.0</td>\n",
              "      <td>7841.0</td>\n",
              "    </tr>\n",
              "    <tr>\n",
              "      <th>112</th>\n",
              "      <td>2020-04-21</td>\n",
              "      <td>2256.0</td>\n",
              "      <td>454.0</td>\n",
              "      <td>28095.0</td>\n",
              "    </tr>\n",
              "    <tr>\n",
              "      <th>113</th>\n",
              "      <td>2020-04-22</td>\n",
              "      <td>2729.0</td>\n",
              "      <td>534.0</td>\n",
              "      <td>44248.0</td>\n",
              "    </tr>\n",
              "  </tbody>\n",
              "</table>\n",
              "</div>"
            ],
            "text/plain": [
              "           date  new_cases  new_deaths  new_tests\n",
              "108  2020-04-17     3786.0       525.0        NaN\n",
              "109  2020-04-18     3493.0       575.0        NaN\n",
              "110  2020-04-19     3491.0       480.0        NaN\n",
              "111  2020-04-20     3047.0       433.0     7841.0\n",
              "112  2020-04-21     2256.0       454.0    28095.0\n",
              "113  2020-04-22     2729.0       534.0    44248.0"
            ]
          },
          "metadata": {},
          "execution_count": 33
        }
      ]
    },
    {
      "cell_type": "markdown",
      "metadata": {
        "id": "9psqxuxH9TG_"
      },
      "source": [
        "We can use the `.sample` method to retrieve a random sample of rows from the data frame."
      ]
    },
    {
      "cell_type": "code",
      "metadata": {
        "id": "uXtivkOQ9TG_",
        "colab": {
          "base_uri": "https://localhost:8080/",
          "height": 359
        },
        "outputId": "2fe8d615-531a-4fe5-ce03-979d5266a6fe"
      },
      "source": [
        "covid_df.sample(10)"
      ],
      "execution_count": 34,
      "outputs": [
        {
          "output_type": "execute_result",
          "data": {
            "text/html": [
              "<div>\n",
              "<style scoped>\n",
              "    .dataframe tbody tr th:only-of-type {\n",
              "        vertical-align: middle;\n",
              "    }\n",
              "\n",
              "    .dataframe tbody tr th {\n",
              "        vertical-align: top;\n",
              "    }\n",
              "\n",
              "    .dataframe thead th {\n",
              "        text-align: right;\n",
              "    }\n",
              "</style>\n",
              "<table border=\"1\" class=\"dataframe\">\n",
              "  <thead>\n",
              "    <tr style=\"text-align: right;\">\n",
              "      <th></th>\n",
              "      <th>date</th>\n",
              "      <th>new_cases</th>\n",
              "      <th>new_deaths</th>\n",
              "      <th>new_tests</th>\n",
              "    </tr>\n",
              "  </thead>\n",
              "  <tbody>\n",
              "    <tr>\n",
              "      <th>210</th>\n",
              "      <td>2020-07-28</td>\n",
              "      <td>168.0</td>\n",
              "      <td>5.0</td>\n",
              "      <td>25341.0</td>\n",
              "    </tr>\n",
              "    <tr>\n",
              "      <th>133</th>\n",
              "      <td>2020-05-12</td>\n",
              "      <td>744.0</td>\n",
              "      <td>179.0</td>\n",
              "      <td>39620.0</td>\n",
              "    </tr>\n",
              "    <tr>\n",
              "      <th>54</th>\n",
              "      <td>2020-02-23</td>\n",
              "      <td>62.0</td>\n",
              "      <td>2.0</td>\n",
              "      <td>NaN</td>\n",
              "    </tr>\n",
              "    <tr>\n",
              "      <th>124</th>\n",
              "      <td>2020-05-03</td>\n",
              "      <td>1900.0</td>\n",
              "      <td>474.0</td>\n",
              "      <td>27047.0</td>\n",
              "    </tr>\n",
              "    <tr>\n",
              "      <th>112</th>\n",
              "      <td>2020-04-21</td>\n",
              "      <td>2256.0</td>\n",
              "      <td>454.0</td>\n",
              "      <td>28095.0</td>\n",
              "    </tr>\n",
              "    <tr>\n",
              "      <th>28</th>\n",
              "      <td>2020-01-28</td>\n",
              "      <td>0.0</td>\n",
              "      <td>0.0</td>\n",
              "      <td>NaN</td>\n",
              "    </tr>\n",
              "    <tr>\n",
              "      <th>107</th>\n",
              "      <td>2020-04-16</td>\n",
              "      <td>2667.0</td>\n",
              "      <td>578.0</td>\n",
              "      <td>NaN</td>\n",
              "    </tr>\n",
              "    <tr>\n",
              "      <th>177</th>\n",
              "      <td>2020-06-25</td>\n",
              "      <td>577.0</td>\n",
              "      <td>-31.0</td>\n",
              "      <td>29421.0</td>\n",
              "    </tr>\n",
              "    <tr>\n",
              "      <th>117</th>\n",
              "      <td>2020-04-26</td>\n",
              "      <td>2357.0</td>\n",
              "      <td>415.0</td>\n",
              "      <td>24113.0</td>\n",
              "    </tr>\n",
              "    <tr>\n",
              "      <th>217</th>\n",
              "      <td>2020-08-04</td>\n",
              "      <td>159.0</td>\n",
              "      <td>12.0</td>\n",
              "      <td>23491.0</td>\n",
              "    </tr>\n",
              "  </tbody>\n",
              "</table>\n",
              "</div>"
            ],
            "text/plain": [
              "           date  new_cases  new_deaths  new_tests\n",
              "210  2020-07-28      168.0         5.0    25341.0\n",
              "133  2020-05-12      744.0       179.0    39620.0\n",
              "54   2020-02-23       62.0         2.0        NaN\n",
              "124  2020-05-03     1900.0       474.0    27047.0\n",
              "112  2020-04-21     2256.0       454.0    28095.0\n",
              "28   2020-01-28        0.0         0.0        NaN\n",
              "107  2020-04-16     2667.0       578.0        NaN\n",
              "177  2020-06-25      577.0       -31.0    29421.0\n",
              "117  2020-04-26     2357.0       415.0    24113.0\n",
              "217  2020-08-04      159.0        12.0    23491.0"
            ]
          },
          "metadata": {},
          "execution_count": 34
        }
      ]
    },
    {
      "cell_type": "markdown",
      "metadata": {
        "id": "gicZOdrl9TG_"
      },
      "source": [
        "Notice that even though we have taken a random sample, each row's original index is preserved - this is a useful property of data frames.\n",
        "\n"
      ]
    },
    {
      "cell_type": "markdown",
      "metadata": {
        "id": "o4Ce9dzJ9THA"
      },
      "source": [
        "Here's a summary of the functions & methods we looked at in this section:\n",
        "\n",
        "- `covid_df['new_cases']` - Retrieving columns as a `Series` using the column name\n",
        "- `new_cases[243]` - Retrieving values from a `Series` using an index\n",
        "- `covid_df.at[243, 'new_cases']` - Retrieving a single value from a data frame\n",
        "- `covid_df.copy()` - Creating a deep copy of a data frame\n",
        "- `covid_df.loc[243]` - Retrieving a row or range of rows of data from the data frame\n",
        "- `head`, `tail`, and `sample` - Retrieving multiple rows of data from the data frame\n",
        "- `covid_df.new_tests.first_valid_index` - Finding the first non-empty index in a series\n",
        "\n"
      ]
    },
    {
      "cell_type": "markdown",
      "metadata": {
        "id": "IKxjmSuy9THB"
      },
      "source": [
        "## Analyzing data from data frames\n",
        "\n",
        "Let's try to answer some questions about our data.\n",
        "\n",
        "**Q: What are the total number of reported cases and deaths related to Covid-19 in Italy?**\n",
        "\n",
        "Similar to Numpy arrays, a Pandas series supports the `sum` method to answer these questions."
      ]
    },
    {
      "cell_type": "code",
      "metadata": {
        "id": "Z6Ke0TK09THB"
      },
      "source": [
        "total_cases = covid_df.new_cases.sum()\n",
        "total_deaths = covid_df.new_deaths.sum()"
      ],
      "execution_count": 35,
      "outputs": []
    },
    {
      "cell_type": "code",
      "metadata": {
        "id": "xWM7_B899THB",
        "colab": {
          "base_uri": "https://localhost:8080/"
        },
        "outputId": "96fd3785-aa73-4ef0-a771-c0e18c500a16"
      },
      "source": [
        "print('The number of reported cases is {} and the number of reported deaths is {}.'.format(int(total_cases), int(total_deaths)))"
      ],
      "execution_count": 36,
      "outputs": [
        {
          "output_type": "stream",
          "name": "stdout",
          "text": [
            "The number of reported cases is 271515 and the number of reported deaths is 35497.\n"
          ]
        }
      ]
    },
    {
      "cell_type": "markdown",
      "metadata": {
        "id": "Bp0SOmAB9THB"
      },
      "source": [
        "**Q: What is the overall death rate (ratio of reported deaths to reported cases)?**"
      ]
    },
    {
      "cell_type": "code",
      "metadata": {
        "id": "U_OcS3A39THC"
      },
      "source": [
        "death_rate = covid_df.new_deaths.sum() / covid_df.new_cases.sum()"
      ],
      "execution_count": 37,
      "outputs": []
    },
    {
      "cell_type": "code",
      "metadata": {
        "id": "cSenyw7E9THC",
        "colab": {
          "base_uri": "https://localhost:8080/"
        },
        "outputId": "dbb38dd3-176b-4ace-e705-3cfa63869ada"
      },
      "source": [
        "print(\"The overall reported death rate in Italy is {:.2f} %.\".format(death_rate*100))"
      ],
      "execution_count": 38,
      "outputs": [
        {
          "output_type": "stream",
          "name": "stdout",
          "text": [
            "The overall reported death rate in Italy is 13.07 %.\n"
          ]
        }
      ]
    },
    {
      "cell_type": "markdown",
      "metadata": {
        "id": "aY525zCC9THC"
      },
      "source": [
        "**Q: What is the overall number of tests conducted? A total of 935310 tests were conducted before daily test numbers were reported.**\n"
      ]
    },
    {
      "cell_type": "code",
      "metadata": {
        "id": "GiW7tAaW9THC"
      },
      "source": [
        "initial_tests = 935310\n",
        "total_tests = initial_tests + covid_df.new_tests.sum()"
      ],
      "execution_count": 39,
      "outputs": []
    },
    {
      "cell_type": "code",
      "metadata": {
        "id": "8hNyhtbF9THC",
        "colab": {
          "base_uri": "https://localhost:8080/"
        },
        "outputId": "1bee75dd-ff29-4ec2-95f7-881546115441"
      },
      "source": [
        "total_tests"
      ],
      "execution_count": 40,
      "outputs": [
        {
          "output_type": "execute_result",
          "data": {
            "text/plain": [
              "5214766.0"
            ]
          },
          "metadata": {},
          "execution_count": 40
        }
      ]
    },
    {
      "cell_type": "markdown",
      "metadata": {
        "id": "lpTYw7X_9THD"
      },
      "source": [
        "**Q: What fraction of tests returned a positive result?**"
      ]
    },
    {
      "cell_type": "code",
      "metadata": {
        "id": "Mx5Ukc2c9THD"
      },
      "source": [
        "positive_rate = total_cases / total_tests"
      ],
      "execution_count": 41,
      "outputs": []
    },
    {
      "cell_type": "code",
      "metadata": {
        "id": "kfSFrStl9THD",
        "colab": {
          "base_uri": "https://localhost:8080/"
        },
        "outputId": "72db292d-8516-4419-a536-a1bad0783d27"
      },
      "source": [
        "print('{:.2f}% of tests in Italy led to a positive diagnosis.'.format(positive_rate*100))"
      ],
      "execution_count": 42,
      "outputs": [
        {
          "output_type": "stream",
          "name": "stdout",
          "text": [
            "5.21% of tests in Italy led to a positive diagnosis.\n"
          ]
        }
      ]
    },
    {
      "cell_type": "markdown",
      "metadata": {
        "id": "jlvNyQ0M9THD"
      },
      "source": [
        "Try asking and answering some more questions about the data using the empty cells below."
      ]
    },
    {
      "cell_type": "code",
      "metadata": {
        "id": "YOmyRsjo9THE"
      },
      "source": [
        ""
      ],
      "execution_count": 42,
      "outputs": []
    },
    {
      "cell_type": "code",
      "metadata": {
        "id": "FY9xHBGK9THE"
      },
      "source": [
        ""
      ],
      "execution_count": 42,
      "outputs": []
    },
    {
      "cell_type": "markdown",
      "metadata": {
        "id": "tGg9mW5G9THN"
      },
      "source": [
        "## Querying and sorting rows\n",
        "\n",
        "Let's say we want only want to look at the days which had more than 1000 reported cases. We can use a boolean expression to check which rows satisfy this criterion."
      ]
    },
    {
      "cell_type": "code",
      "metadata": {
        "id": "Lcwettfu9THO"
      },
      "source": [
        "high_new_cases = covid_df.new_cases > 1000"
      ],
      "execution_count": null,
      "outputs": []
    },
    {
      "cell_type": "code",
      "metadata": {
        "id": "q0O59uzo9THP"
      },
      "source": [
        "high_new_cases"
      ],
      "execution_count": null,
      "outputs": []
    },
    {
      "cell_type": "markdown",
      "metadata": {
        "id": "gImOFfWl9THQ"
      },
      "source": [
        "The boolean expression returns a series containing `True` and `False` boolean values. You can use this series to select a subset of rows from the original dataframe, corresponding to the `True` values in the series."
      ]
    },
    {
      "cell_type": "code",
      "metadata": {
        "id": "rsDydT0D9THR"
      },
      "source": [
        "covid_df[high_new_cases]"
      ],
      "execution_count": null,
      "outputs": []
    },
    {
      "cell_type": "markdown",
      "metadata": {
        "id": "_J0se7uS9THR"
      },
      "source": [
        "We can write this succinctly on a single line by passing the boolean expression as an index to the data frame."
      ]
    },
    {
      "cell_type": "code",
      "metadata": {
        "id": "b1Mr_58l9THR"
      },
      "source": [
        "high_cases_df = covid_df[covid_df.new_cases > 1000]"
      ],
      "execution_count": null,
      "outputs": []
    },
    {
      "cell_type": "code",
      "metadata": {
        "id": "cvwaQSK49THS"
      },
      "source": [
        "high_cases_df"
      ],
      "execution_count": null,
      "outputs": []
    },
    {
      "cell_type": "markdown",
      "metadata": {
        "id": "C52mypEV9THS"
      },
      "source": [
        "The data frame contains 72 rows, but only the first & last five rows are displayed by default with Jupyter for brevity. We can change some display options to view all the rows."
      ]
    },
    {
      "cell_type": "code",
      "metadata": {
        "scrolled": true,
        "id": "m9-7gFBS9THT"
      },
      "source": [
        "from IPython.display import display\n",
        "with pd.option_context('display.max_rows', 100):\n",
        "    display(covid_df[covid_df.new_cases > 1000])"
      ],
      "execution_count": null,
      "outputs": []
    },
    {
      "cell_type": "markdown",
      "metadata": {
        "id": "qwMcJ6lY9THT"
      },
      "source": [
        "We can also formulate more complex queries that involve multiple columns. As an example, let's try to determine the days when the ratio of cases reported to tests conducted is higher than the overall `positive_rate`."
      ]
    },
    {
      "cell_type": "code",
      "metadata": {
        "id": "M1yxxV8R9THV"
      },
      "source": [
        "positive_rate"
      ],
      "execution_count": null,
      "outputs": []
    },
    {
      "cell_type": "code",
      "metadata": {
        "id": "DBSAAO3q9THV"
      },
      "source": [
        "high_ratio_df = covid_df[covid_df.new_cases / covid_df.new_tests > positive_rate]"
      ],
      "execution_count": null,
      "outputs": []
    },
    {
      "cell_type": "code",
      "metadata": {
        "id": "aY7R7ZmB9THW"
      },
      "source": [
        "high_ratio_df"
      ],
      "execution_count": null,
      "outputs": []
    },
    {
      "cell_type": "markdown",
      "metadata": {
        "id": "CUVryi349THW"
      },
      "source": [
        "The result of performing an operation on two columns is a new series."
      ]
    },
    {
      "cell_type": "code",
      "metadata": {
        "id": "41yUMEVT9THX"
      },
      "source": [
        "covid_df.new_cases / covid_df.new_tests"
      ],
      "execution_count": null,
      "outputs": []
    },
    {
      "cell_type": "markdown",
      "metadata": {
        "id": "GG8_TRY29THY"
      },
      "source": [
        "We can use this series to add a new column to the data frame."
      ]
    },
    {
      "cell_type": "code",
      "metadata": {
        "id": "31DKdkeo9THZ"
      },
      "source": [
        "covid_df['positive_rate'] = covid_df.new_cases / covid_df.new_tests"
      ],
      "execution_count": null,
      "outputs": []
    },
    {
      "cell_type": "code",
      "metadata": {
        "id": "dbJBiikj9THZ"
      },
      "source": [
        "covid_df"
      ],
      "execution_count": null,
      "outputs": []
    },
    {
      "cell_type": "markdown",
      "metadata": {
        "id": "mzAniL2T9THZ"
      },
      "source": [
        "However, keep in mind that sometimes it takes a few days to get the results for a test, so we can't compare the number of new cases with the number of tests conducted on the same day. Any inference based on this `positive_rate` column is likely to be incorrect. It's essential to watch out for such subtle relationships that are often not conveyed within the CSV file and require some external context. It's always a good idea to read through the documentation provided with the dataset or ask for more information.\n",
        "\n",
        "For now, let's remove the `positive_rate` column using the `drop` method."
      ]
    },
    {
      "cell_type": "code",
      "metadata": {
        "id": "llLD-crp9THb"
      },
      "source": [
        "covid_df.drop(columns=['positive_rate'], inplace=True)"
      ],
      "execution_count": null,
      "outputs": []
    },
    {
      "cell_type": "markdown",
      "metadata": {
        "id": "6Qw4874X9THc"
      },
      "source": [
        "Can you figure the purpose of the `inplace` argument?"
      ]
    },
    {
      "cell_type": "markdown",
      "metadata": {
        "id": "jNOLqTjX9THc"
      },
      "source": [
        "### Sorting rows using column values\n",
        "\n",
        "The rows can also be sorted by a specific column using `.sort_values`. Let's sort to identify the days with the highest number of cases, then chain it with the `head` method to list just the first ten results."
      ]
    },
    {
      "cell_type": "code",
      "metadata": {
        "id": "4Eq0gAOw9THc"
      },
      "source": [
        "covid_df.sort_values('new_cases', ascending=False).head(10)"
      ],
      "execution_count": null,
      "outputs": []
    },
    {
      "cell_type": "markdown",
      "metadata": {
        "id": "Phf34wNJ9THc"
      },
      "source": [
        "It looks like the last two weeks of March had the highest number of daily cases. Let's compare this to the days where the highest number of deaths were recorded."
      ]
    },
    {
      "cell_type": "code",
      "metadata": {
        "id": "oHPMtHZY9THd"
      },
      "source": [
        "covid_df.sort_values('new_deaths', ascending=False).head(10)"
      ],
      "execution_count": null,
      "outputs": []
    },
    {
      "cell_type": "markdown",
      "metadata": {
        "id": "U2JKkJNS9THd"
      },
      "source": [
        "It appears that daily deaths hit a peak just about a week after the peak in daily new cases.\n",
        "\n",
        "Let's also look at the days with the least number of cases. We might expect to see the first few days of the year on this list."
      ]
    },
    {
      "cell_type": "code",
      "metadata": {
        "id": "zzM-7joq9THd"
      },
      "source": [
        "covid_df.sort_values('new_cases').head(10)"
      ],
      "execution_count": null,
      "outputs": []
    },
    {
      "cell_type": "markdown",
      "metadata": {
        "id": "qDTlLXQY9THd"
      },
      "source": [
        "It seems like the count of new cases on Jun 20, 2020, was `-148`, a negative number! Not something we might have expected, but that's the nature of real-world data. It could be a data entry error, or the government may have issued a correction to account for miscounting in the past. Can you dig through news articles online and figure out why the number was negative?\n",
        "\n",
        "Let's look at some days before and after Jun 20, 2020."
      ]
    },
    {
      "cell_type": "code",
      "metadata": {
        "id": "EN5nL5_D9THd"
      },
      "source": [
        "covid_df.loc[169:175]"
      ],
      "execution_count": null,
      "outputs": []
    },
    {
      "cell_type": "markdown",
      "metadata": {
        "id": "dY4Vl2q-9THe"
      },
      "source": [
        "For now, let's assume this was indeed a data entry error. We can use one of the following approaches for dealing with the missing or faulty value:\n",
        "1. Replace it with `0`.\n",
        "2. Replace it with the average of the entire column\n",
        "3. Replace it with the average of the values on the previous & next date\n",
        "4. Discard the row entirely\n",
        "\n",
        "Which approach you pick requires some context about the data and the problem. In this case, since we are dealing with data ordered by date, we can go ahead with the third approach.\n",
        "\n",
        "You can use the `.at` method to modify a specific value within the dataframe."
      ]
    },
    {
      "cell_type": "code",
      "metadata": {
        "id": "ZFnuzz8h9THo"
      },
      "source": [
        "covid_df.at[172, 'new_cases'] = (covid_df.at[171, 'new_cases'] + covid_df.at[173, 'new_cases'])/2"
      ],
      "execution_count": null,
      "outputs": []
    },
    {
      "cell_type": "markdown",
      "metadata": {
        "id": "ne2AYXW69THt"
      },
      "source": [
        "Here's a summary of the functions & methods we looked at in this section:\n",
        "\n",
        "- `covid_df.new_cases.sum()` - Computing the sum of values in a column or series\n",
        "- `covid_df[covid_df.new_cases > 1000]` - Querying a subset of rows satisfying the chosen criteria using boolean expressions\n",
        "- `df['pos_rate'] = df.new_cases/df.new_tests` - Adding new columns by combining data from existing columns\n",
        "- `covid_df.drop('positive_rate')` - Removing one or more columns from the data frame\n",
        "- `sort_values` - Sorting the rows of a data frame using column values\n",
        "- `covid_df.at[172, 'new_cases'] = ...` - Replacing a value within the data frame"
      ]
    },
    {
      "cell_type": "markdown",
      "metadata": {
        "id": "Vwv94Hxa9THw"
      },
      "source": [
        "Let's save and commit our work before continuing."
      ]
    },
    {
      "cell_type": "code",
      "metadata": {
        "id": "yuWZOS969TH5"
      },
      "source": [
        "import jovian"
      ],
      "execution_count": null,
      "outputs": []
    },
    {
      "cell_type": "code",
      "metadata": {
        "id": "bY46g2th9TH5"
      },
      "source": [
        "jovian.commit()"
      ],
      "execution_count": null,
      "outputs": []
    },
    {
      "cell_type": "markdown",
      "metadata": {
        "id": "us49rOJO9TH8"
      },
      "source": [
        "## Working with dates\n",
        "\n",
        "While we've looked at overall numbers for the cases, tests, positive rate, etc., it would also be useful to study these numbers on a month-by-month basis. The `date` column might come in handy here, as Pandas provides many utilities for working with dates."
      ]
    },
    {
      "cell_type": "code",
      "metadata": {
        "id": "Xq_ZHsjp9TID"
      },
      "source": [
        "covid_df.date"
      ],
      "execution_count": null,
      "outputs": []
    },
    {
      "cell_type": "markdown",
      "metadata": {
        "id": "KMxd6LG19TIS"
      },
      "source": [
        "The data type of date is currently `object`, so Pandas does not know that this column is a date. We can convert it into a `datetime` column using the `pd.to_datetime` method."
      ]
    },
    {
      "cell_type": "code",
      "metadata": {
        "id": "xpG8muYa9TIS"
      },
      "source": [
        "covid_df['date'] = pd.to_datetime(covid_df.date)"
      ],
      "execution_count": null,
      "outputs": []
    },
    {
      "cell_type": "code",
      "metadata": {
        "id": "1o4s-N6T9TId"
      },
      "source": [
        "covid_df['date']"
      ],
      "execution_count": null,
      "outputs": []
    },
    {
      "cell_type": "markdown",
      "metadata": {
        "id": "otBFZX5s9TIg"
      },
      "source": [
        "You can see that it now has the datatype `datetime64`. We can now extract different parts of the data into separate columns, using the `DatetimeIndex` class ([view docs](https://pandas.pydata.org/pandas-docs/version/0.23.4/generated/pandas.DatetimeIndex.html))."
      ]
    },
    {
      "cell_type": "code",
      "metadata": {
        "id": "-AY25TAm9TIy"
      },
      "source": [
        "covid_df['year'] = pd.DatetimeIndex(covid_df.date).year\n",
        "covid_df['month'] = pd.DatetimeIndex(covid_df.date).month\n",
        "covid_df['day'] = pd.DatetimeIndex(covid_df.date).day\n",
        "covid_df['weekday'] = pd.DatetimeIndex(covid_df.date).weekday"
      ],
      "execution_count": null,
      "outputs": []
    },
    {
      "cell_type": "code",
      "metadata": {
        "id": "Mnz2moD89TI2"
      },
      "source": [
        "covid_df"
      ],
      "execution_count": null,
      "outputs": []
    },
    {
      "cell_type": "markdown",
      "metadata": {
        "id": "UfpCatvx9TI3"
      },
      "source": [
        "Let's check the overall metrics for May. We can query the rows for May, choose a subset of columns, and use the `sum` method to aggregate each selected column's values."
      ]
    },
    {
      "cell_type": "code",
      "metadata": {
        "id": "DG3t4NGr9TI3"
      },
      "source": [
        "# Query the rows for May\n",
        "covid_df_may = covid_df[covid_df.month == 5]\n",
        "\n",
        "# Extract the subset of columns to be aggregated\n",
        "covid_df_may_metrics = covid_df_may[['new_cases', 'new_deaths', 'new_tests']]\n",
        "\n",
        "# Get the column-wise sum\n",
        "covid_may_totals = covid_df_may_metrics.sum()"
      ],
      "execution_count": null,
      "outputs": []
    },
    {
      "cell_type": "code",
      "metadata": {
        "id": "eYzM07NX9TI3"
      },
      "source": [
        "covid_may_totals"
      ],
      "execution_count": null,
      "outputs": []
    },
    {
      "cell_type": "code",
      "metadata": {
        "id": "jTlvhYuy9TI4"
      },
      "source": [
        "type(covid_may_totals)"
      ],
      "execution_count": null,
      "outputs": []
    },
    {
      "cell_type": "markdown",
      "metadata": {
        "id": "0Hf1fEKH9TI4"
      },
      "source": [
        "We can also combine the above operations into a single statement."
      ]
    },
    {
      "cell_type": "code",
      "metadata": {
        "id": "Tmkwroi09TI5"
      },
      "source": [
        "covid_df[covid_df.month == 5][['new_cases', 'new_deaths', 'new_tests']].sum()"
      ],
      "execution_count": null,
      "outputs": []
    },
    {
      "cell_type": "markdown",
      "metadata": {
        "id": "DCm7Eldi9TI5"
      },
      "source": [
        "As another example, let's check if the number of cases reported on Sundays is higher than the average number of cases reported every day. This time, we might want to aggregate columns using the `.mean` method."
      ]
    },
    {
      "cell_type": "code",
      "metadata": {
        "id": "wjyvNghI9TI5"
      },
      "source": [
        "# Overall average\n",
        "covid_df.new_cases.mean()"
      ],
      "execution_count": null,
      "outputs": []
    },
    {
      "cell_type": "code",
      "metadata": {
        "id": "V3bqFpM99TI7"
      },
      "source": [
        "# Average for Sundays\n",
        "covid_df[covid_df.weekday == 6].new_cases.mean()"
      ],
      "execution_count": null,
      "outputs": []
    },
    {
      "cell_type": "markdown",
      "metadata": {
        "id": "FGuQYxgg9TI7"
      },
      "source": [
        "It seems like more cases were reported on Sundays compared to other days.\n",
        "\n",
        "Try asking and answering some more date-related questions about the data using the cells below."
      ]
    },
    {
      "cell_type": "code",
      "metadata": {
        "id": "oRwIM-Am9TI8"
      },
      "source": [
        ""
      ],
      "execution_count": null,
      "outputs": []
    },
    {
      "cell_type": "code",
      "metadata": {
        "id": "R-I5JXs49TI8"
      },
      "source": [
        ""
      ],
      "execution_count": null,
      "outputs": []
    },
    {
      "cell_type": "code",
      "metadata": {
        "id": "p4Kl8g579TI8"
      },
      "source": [
        ""
      ],
      "execution_count": null,
      "outputs": []
    },
    {
      "cell_type": "code",
      "metadata": {
        "id": "gX1UBOuy9TI8"
      },
      "source": [
        ""
      ],
      "execution_count": null,
      "outputs": []
    },
    {
      "cell_type": "markdown",
      "metadata": {
        "id": "MiHFytvg9TI9"
      },
      "source": [
        "## Grouping and aggregation\n",
        "\n",
        "As a next step, we might want to summarize the day-wise data and create a new dataframe with month-wise data. We can use the `groupby` function to create a group for each month, select the columns we wish to aggregate, and aggregate them using the `sum` method. "
      ]
    },
    {
      "cell_type": "code",
      "metadata": {
        "id": "3bUbnF_i9TI_"
      },
      "source": [
        "covid_month_df = covid_df.groupby('month')[['new_cases', 'new_deaths', 'new_tests']].sum()"
      ],
      "execution_count": null,
      "outputs": []
    },
    {
      "cell_type": "code",
      "metadata": {
        "id": "_ffNteKF9TI_"
      },
      "source": [
        "covid_month_df"
      ],
      "execution_count": null,
      "outputs": []
    },
    {
      "cell_type": "markdown",
      "metadata": {
        "id": "RqZvVYxq9TI_"
      },
      "source": [
        "The result is a new data frame that uses unique values from the column passed to `groupby` as the index. Grouping and aggregation is a powerful method for progressively summarizing data into smaller data frames.\n",
        "\n",
        "Instead of aggregating by sum, you can also aggregate by other measures like mean. Let's compute the average number of daily new cases, deaths, and tests for each month."
      ]
    },
    {
      "cell_type": "code",
      "metadata": {
        "id": "mSw3kxxl9TI_"
      },
      "source": [
        "covid_month_mean_df = covid_df.groupby('month')[['new_cases', 'new_deaths', 'new_tests']].mean()"
      ],
      "execution_count": null,
      "outputs": []
    },
    {
      "cell_type": "code",
      "metadata": {
        "id": "wVR-uMzT9TJA"
      },
      "source": [
        "covid_month_mean_df"
      ],
      "execution_count": null,
      "outputs": []
    },
    {
      "cell_type": "markdown",
      "metadata": {
        "id": "NO-OXMw19TJA"
      },
      "source": [
        "Apart from grouping, another form of aggregation is the running or cumulative sum of cases, tests, or death up to each row's date. We can use the `cumsum` method to compute the cumulative sum of a column as a new series. Let's add three new columns: `total_cases`, `total_deaths`, and `total_tests`."
      ]
    },
    {
      "cell_type": "code",
      "metadata": {
        "id": "AoR5r6gz9TJA"
      },
      "source": [
        "covid_df['total_cases'] = covid_df.new_cases.cumsum()"
      ],
      "execution_count": null,
      "outputs": []
    },
    {
      "cell_type": "code",
      "metadata": {
        "id": "oDLwkd_O9TJA"
      },
      "source": [
        "covid_df['total_deaths'] = covid_df.new_deaths.cumsum()"
      ],
      "execution_count": null,
      "outputs": []
    },
    {
      "cell_type": "code",
      "metadata": {
        "id": "oFE2Fk3q9TJA"
      },
      "source": [
        "covid_df['total_tests'] = covid_df.new_tests.cumsum() + initial_tests"
      ],
      "execution_count": null,
      "outputs": []
    },
    {
      "cell_type": "markdown",
      "metadata": {
        "id": "ssRmOmNI9TJB"
      },
      "source": [
        "We've also included the initial test count in `total_test` to account for tests conducted before daily reporting was started. "
      ]
    },
    {
      "cell_type": "code",
      "metadata": {
        "id": "ma8to_mf9TJB"
      },
      "source": [
        "covid_df"
      ],
      "execution_count": null,
      "outputs": []
    },
    {
      "cell_type": "markdown",
      "metadata": {
        "id": "E322Gk1D9TJC"
      },
      "source": [
        "Notice how the `NaN` values in the `total_tests` column remain unaffected."
      ]
    },
    {
      "cell_type": "markdown",
      "metadata": {
        "id": "jQnRTZ1F9TJD"
      },
      "source": [
        "## Merging data from multiple sources\n",
        "\n",
        "To determine other metrics like test per million, cases per million, etc., we require some more information about the country, viz. its population. Let's download another file `locations.csv` that contains health-related information for many countries, including Italy."
      ]
    },
    {
      "cell_type": "code",
      "metadata": {
        "id": "QpRKJ2ro9TJD"
      },
      "source": [
        "urlretrieve('https://gist.githubusercontent.com/aakashns/8684589ef4f266116cdce023377fc9c8/raw/99ce3826b2a9d1e6d0bde7e9e559fc8b6e9ac88b/locations.csv', \n",
        "            'locations.csv')"
      ],
      "execution_count": null,
      "outputs": []
    },
    {
      "cell_type": "code",
      "metadata": {
        "id": "Ba2Fx9Ih9TJD"
      },
      "source": [
        "locations_df = pd.read_csv('locations.csv')"
      ],
      "execution_count": null,
      "outputs": []
    },
    {
      "cell_type": "code",
      "metadata": {
        "id": "hg_VPoRh9TJD"
      },
      "source": [
        "locations_df"
      ],
      "execution_count": null,
      "outputs": []
    },
    {
      "cell_type": "code",
      "metadata": {
        "id": "2kfnBx-r9TJD"
      },
      "source": [
        "locations_df[locations_df.location == \"Italy\"]"
      ],
      "execution_count": null,
      "outputs": []
    },
    {
      "cell_type": "markdown",
      "metadata": {
        "id": "sX5NZkQa9TJE"
      },
      "source": [
        "We can merge this data into our existing data frame by adding more columns. However, to merge two data frames, we need at least one common column. Let's insert a `location` column in the `covid_df` dataframe with all values set to `\"Italy\"`."
      ]
    },
    {
      "cell_type": "code",
      "metadata": {
        "id": "yChG-QEb9TJE"
      },
      "source": [
        "covid_df['location'] = \"Italy\""
      ],
      "execution_count": null,
      "outputs": []
    },
    {
      "cell_type": "code",
      "metadata": {
        "id": "9VfrS8mX9TJE"
      },
      "source": [
        "covid_df"
      ],
      "execution_count": null,
      "outputs": []
    },
    {
      "cell_type": "markdown",
      "metadata": {
        "id": "Y6jjiHn59TJE"
      },
      "source": [
        "We can now add the columns from `locations_df` into `covid_df` using the `.merge` method."
      ]
    },
    {
      "cell_type": "code",
      "metadata": {
        "id": "zH2aV7_J9TJF"
      },
      "source": [
        "merged_df = covid_df.merge(locations_df, on=\"location\")"
      ],
      "execution_count": null,
      "outputs": []
    },
    {
      "cell_type": "code",
      "metadata": {
        "id": "2ntCvuJD9TJF"
      },
      "source": [
        "merged_df"
      ],
      "execution_count": null,
      "outputs": []
    },
    {
      "cell_type": "markdown",
      "metadata": {
        "id": "5oS6d-vJ9TJF"
      },
      "source": [
        "The location data for Italy is appended to each row within `covid_df`. If the `covid_df` data frame contained data for multiple locations, then the respective country's location data would be appended for each row.\n",
        "\n",
        "We can now calculate metrics like cases per million, deaths per million, and tests per million."
      ]
    },
    {
      "cell_type": "code",
      "metadata": {
        "id": "3VgHnXGk9TJF"
      },
      "source": [
        "merged_df['cases_per_million'] = merged_df.total_cases * 1e6 / merged_df.population"
      ],
      "execution_count": null,
      "outputs": []
    },
    {
      "cell_type": "code",
      "metadata": {
        "id": "DL8RvtHT9TJF"
      },
      "source": [
        "merged_df['deaths_per_million'] = merged_df.total_deaths * 1e6 / merged_df.population"
      ],
      "execution_count": null,
      "outputs": []
    },
    {
      "cell_type": "code",
      "metadata": {
        "id": "BUL6vlq49TJG"
      },
      "source": [
        "merged_df['tests_per_million'] = merged_df.total_tests * 1e6 / merged_df.population"
      ],
      "execution_count": null,
      "outputs": []
    },
    {
      "cell_type": "code",
      "metadata": {
        "scrolled": false,
        "id": "jPJcTTON9TJI"
      },
      "source": [
        "merged_df"
      ],
      "execution_count": null,
      "outputs": []
    },
    {
      "cell_type": "markdown",
      "metadata": {
        "id": "WULlB2Jf9TJI"
      },
      "source": [
        "Let's save and commit our work before continuing."
      ]
    },
    {
      "cell_type": "markdown",
      "metadata": {
        "id": "ibeyoE2p9TJJ"
      },
      "source": [
        "## Writing data back to files\n",
        "\n",
        "After completing your analysis and adding new columns, you should write the results back to a file. Otherwise, the data will be lost when the Jupyter notebook shuts down. Before writing to file, let us first create a data frame containing just the columns we wish to record."
      ]
    },
    {
      "cell_type": "code",
      "metadata": {
        "id": "IlwhZGxq9TJJ"
      },
      "source": [
        "result_df = merged_df[['date',\n",
        "                       'new_cases', \n",
        "                       'total_cases', \n",
        "                       'new_deaths', \n",
        "                       'total_deaths', \n",
        "                       'new_tests', \n",
        "                       'total_tests', \n",
        "                       'cases_per_million', \n",
        "                       'deaths_per_million', \n",
        "                       'tests_per_million']]"
      ],
      "execution_count": null,
      "outputs": []
    },
    {
      "cell_type": "code",
      "metadata": {
        "scrolled": false,
        "id": "hbJsftkG9TJJ"
      },
      "source": [
        "result_df"
      ],
      "execution_count": null,
      "outputs": []
    },
    {
      "cell_type": "markdown",
      "metadata": {
        "id": "zolceHrW9TJK"
      },
      "source": [
        "To write the data from the data frame into a file, we can use the `to_csv` function. "
      ]
    },
    {
      "cell_type": "code",
      "metadata": {
        "id": "ga5voqhQ9TJK"
      },
      "source": [
        "result_df.to_csv('results.csv', index=None)"
      ],
      "execution_count": null,
      "outputs": []
    },
    {
      "cell_type": "markdown",
      "metadata": {
        "id": "5i43zbHV9TJK"
      },
      "source": [
        "The `to_csv` function also includes an additional column for storing the index of the dataframe by default. We pass `index=None` to turn off this behavior. You can now verify that the `results.csv` is created and contains data from the data frame in CSV format:\n",
        "\n",
        "```\n",
        "date,new_cases,total_cases,new_deaths,total_deaths,new_tests,total_tests,cases_per_million,deaths_per_million,tests_per_million\n",
        "2020-02-27,78.0,400.0,1.0,12.0,,,6.61574439992122,0.1984723319976366,\n",
        "2020-02-28,250.0,650.0,5.0,17.0,,,10.750584649871982,0.28116913699665186,\n",
        "2020-02-29,238.0,888.0,4.0,21.0,,,14.686952567825108,0.34732658099586405,\n",
        "2020-03-01,240.0,1128.0,8.0,29.0,,,18.656399207777838,0.47964146899428844,\n",
        "2020-03-02,561.0,1689.0,6.0,35.0,,,27.93498072866735,0.5788776349931067,\n",
        "2020-03-03,347.0,2036.0,17.0,52.0,,,33.67413899559901,0.8600467719897585,\n",
        "...\n",
        "```"
      ]
    },
    {
      "cell_type": "markdown",
      "metadata": {
        "id": "WqMp85Yk9TJW"
      },
      "source": [
        "You can find the CSV file in the \"Files\" tab on the project page."
      ]
    },
    {
      "cell_type": "markdown",
      "metadata": {
        "id": "uKaUdbhI9TJX"
      },
      "source": [
        "## Bonus: Basic Plotting with Pandas\n",
        "\n",
        "We generally use a library like `matplotlib` or `seaborn` plot graphs within a Jupyter notebook. However, Pandas dataframes & series provide a handy `.plot` method for quick and easy plotting.\n",
        "\n",
        "Let's plot a line graph showing how the number of daily cases varies over time."
      ]
    },
    {
      "cell_type": "code",
      "metadata": {
        "id": "Pz4g-zIK9TJX"
      },
      "source": [
        "result_df.new_cases.plot();"
      ],
      "execution_count": null,
      "outputs": []
    },
    {
      "cell_type": "markdown",
      "metadata": {
        "id": "BV2qrrLP9TJX"
      },
      "source": [
        "While this plot shows the overall trend, it's hard to tell where the peak occurred, as there are no dates on the X-axis. We can use the `date` column as the index for the data frame to address this issue."
      ]
    },
    {
      "cell_type": "code",
      "metadata": {
        "id": "MBBqHipJ9TJY"
      },
      "source": [
        "result_df.set_index('date', inplace=True)"
      ],
      "execution_count": null,
      "outputs": []
    },
    {
      "cell_type": "code",
      "metadata": {
        "id": "0IQOKJLu9TJY"
      },
      "source": [
        "result_df"
      ],
      "execution_count": null,
      "outputs": []
    },
    {
      "cell_type": "markdown",
      "metadata": {
        "id": "BFd60aZ39TJY"
      },
      "source": [
        "Notice that the index of a data frame doesn't have to be numeric. Using the date as the index also allows us to get the data for a specific data using `.loc`."
      ]
    },
    {
      "cell_type": "code",
      "metadata": {
        "id": "iiDv9gjG9TJY"
      },
      "source": [
        "result_df.loc['2020-09-01']"
      ],
      "execution_count": null,
      "outputs": []
    },
    {
      "cell_type": "markdown",
      "metadata": {
        "id": "6BLw8hh_9TJY"
      },
      "source": [
        "Let's plot the new cases & new deaths per day as line graphs."
      ]
    },
    {
      "cell_type": "code",
      "metadata": {
        "id": "Sau4s_pN9TJY"
      },
      "source": [
        "result_df.new_cases.plot()\n",
        "result_df.new_deaths.plot();"
      ],
      "execution_count": null,
      "outputs": []
    },
    {
      "cell_type": "markdown",
      "metadata": {
        "id": "88yHTExA9TJZ"
      },
      "source": [
        "We can also compare the total cases vs. total deaths."
      ]
    },
    {
      "cell_type": "code",
      "metadata": {
        "id": "KBefadNU9TJa"
      },
      "source": [
        "result_df.total_cases.plot()\n",
        "result_df.total_deaths.plot();"
      ],
      "execution_count": null,
      "outputs": []
    },
    {
      "cell_type": "markdown",
      "metadata": {
        "id": "-hSmMlN59TJa"
      },
      "source": [
        "Let's see how the death rate and positive testing rates vary over time."
      ]
    },
    {
      "cell_type": "code",
      "metadata": {
        "id": "xz50ao0J9TJb"
      },
      "source": [
        "death_rate = result_df.total_deaths / result_df.total_cases"
      ],
      "execution_count": null,
      "outputs": []
    },
    {
      "cell_type": "code",
      "metadata": {
        "id": "ahvVWgVV9TJb"
      },
      "source": [
        "death_rate.plot(title='Death Rate');"
      ],
      "execution_count": null,
      "outputs": []
    },
    {
      "cell_type": "code",
      "metadata": {
        "id": "Afy8AEsD9TJb"
      },
      "source": [
        "positive_rates = result_df.total_cases / result_df.total_tests\n",
        "positive_rates.plot(title='Positive Rate');"
      ],
      "execution_count": null,
      "outputs": []
    },
    {
      "cell_type": "markdown",
      "metadata": {
        "id": "gF0Y24I79TJc"
      },
      "source": [
        "Finally, let's plot some month-wise data using a bar chart to visualize the trend at a higher level."
      ]
    },
    {
      "cell_type": "code",
      "metadata": {
        "id": "z9t40wz89TJc"
      },
      "source": [
        "covid_month_df.new_cases.plot(kind='bar');"
      ],
      "execution_count": null,
      "outputs": []
    },
    {
      "cell_type": "code",
      "metadata": {
        "id": "Vct4DeOS9TJc"
      },
      "source": [
        "covid_month_df.new_tests.plot(kind='bar')"
      ],
      "execution_count": null,
      "outputs": []
    },
    {
      "cell_type": "markdown",
      "metadata": {
        "id": "16pRaPTO9TJk"
      },
      "source": [
        "## Exercises\n",
        "\n",
        "Try the following exercises to become familiar with Pandas dataframe and practice your skills:\n",
        "\n",
        "* Additional exercises on Pandas: https://github.com/guipsamora/pandas_exercises\n",
        "\n",
        "* Try downloading and analyzing some data from the following sources\n",
        "  * Kaggle: https://www.kaggle.com/datasets\n",
        "  * Seaborn datasets: https://github.com/mwaskom/seaborn-data\n",
        "  * Plotly datasets: https://github.com/plotly/datasets\n",
        "  * Five Thirty Eight datasets: https://github.com/fivethirtyeight/data\n",
        "\n",
        "Check this links for many more datasets that can be used for data analysis and visualization.\n",
        "\n",
        "\n"
      ]
    },
    {
      "cell_type": "markdown",
      "metadata": {
        "id": "rZjERCfV9TJk"
      },
      "source": [
        "## Summary and Further Reading\n",
        "\n",
        "\n",
        "We've covered the following topics in this tutorial:\n",
        "\n",
        "- Reading a CSV file into a Pandas data frame\n",
        "- Retrieving data from Pandas data frames\n",
        "- Querying, soring, and analyzing data\n",
        "- Merging, grouping, and aggregation of data\n",
        "- Extracting useful information from dates\n",
        "- Basic plotting using line and bar charts\n",
        "- Writing data frames to CSV files\n",
        "\n",
        "\n",
        "Check out the following resources to learn more about Pandas:\n",
        "\n",
        "* User guide for Pandas: https://pandas.pydata.org/docs/user_guide/index.html\n",
        "* Python for Data Analysis (book by Wes McKinney - creator of Pandas): https://www.oreilly.com/library/view/python-for-data/9781491957653/\n",
        "* On the github page for the book you can find all the notebooks from the diffrent chapters in the book: https://github.com/wesm/pydata-book \n",
        "\n",
        "<br>\n",
        "\n",
        "* Python Data Science Handbook by Jake VanderPlas, includes all the notebooks in the book \n",
        "https://github.com/jakevdp/PythonDataScienceHandbook"
      ]
    },
    {
      "cell_type": "markdown",
      "metadata": {
        "id": "Qb8W-_2o9TJl"
      },
      "source": [
        "## Questions for Revision\n",
        "Try answering the following questions to test your understanding of the topics covered in this notebook:\n",
        "1. What is Pandas? What makes it useful?\n",
        "2. How do you install the Pandas library?\n",
        "3. How do you import the `pandas` module?\n",
        "4. What is the common alias used while importing the `pandas` module?\n",
        "5. How do you read a CSV file using Pandas? Give an example?\n",
        "6. What are some other file formats you can read using Pandas? Illustrate with examples.\n",
        "7. What are Pandas dataframes? \n",
        "8. How are Pandas dataframes different from Numpy arrays?\n",
        "9. How do you find the number of rows and columns in a dataframe?\n",
        "10. How do you get the list of columns in a dataframe?\n",
        "11. What is the purpose of the `describe` method of a dataframe?\n",
        "12. How are the `info` and `describe` dataframe methods different?\n",
        "13. Is a Pandas dataframe conceptually similar to a list of dictionaries or a dictionary of lists? Explain with an example.\n",
        "14. What is a Pandas `Series`? How is it different from a Numpy array?\n",
        "15. How do you access a column from a dataframe?\n",
        "16. How do you access a row from a dataframe?\n",
        "17. How do you access an element at a specific row & column of a dataframe?\n",
        "18. How do you create a subset of a dataframe with a specific set of columns?\n",
        "19. How do you create a subset of a dataframe with a specific range of rows?\n",
        "20. Does changing a value within a dataframe affect other dataframes created using a subset of the rows or columns? Why is it so?\n",
        "21. How do you create a copy of a dataframe?\n",
        "22. Why should you avoid creating too many copies of a dataframe?\n",
        "23. How do you view the first few rows of a dataframe?\n",
        "24. How do you view the last few rows of a dataframe?\n",
        "25. How do you view a random selection of rows of a dataframe?\n",
        "26. What is the \"index\" in a dataframe? How is it useful?\n",
        "27. What does a `NaN` value in a Pandas dataframe represent?\n",
        "28. How is `Nan` different from `0`?\n",
        "29. How do you identify the first non-empty row in a Pandas series or column?\n",
        "30. What is the difference between `df.loc` and `df.at`?\n",
        "31. Where can you find a full list of methods supported by Pandas `DataFrame` and `Series` objects?\n",
        "32. How do you find the sum of numbers in a column of dataframe?\n",
        "33. How do you find the mean of numbers in a column of a dataframe?\n",
        "34. How do you find the number of non-empty numbers in a column of a dataframe?\n",
        "35. What is the result obtained by using a Pandas column in a boolean expression? Illustrate with an example.\n",
        "36. How do you select a subset of rows where a specific column's value meets a given condition? Illustrate with an example.\n",
        "37. What is the result of the expression `df[df.new_cases > 100]` ?\n",
        "38. How do you display all the rows of a pandas dataframe in a Jupyter cell output?\n",
        "39. What is the result obtained when you perform an arithmetic operation between two columns of a dataframe? Illustrate with an example.\n",
        "40. How do you add a new column to a dataframe by combining values from two existing columns? Illustrate with an example.\n",
        "41. How do you remove a column from a dataframe? Illustrate with an example.\n",
        "42. What is the purpose of the `inplace` argument in dataframe methods?\n",
        "43. How do you sort the rows of a dataframe based on the values in a particular column?\n",
        "44. How do you sort a pandas dataframe using values from multiple columns?\n",
        "45. How do you specify whether to sort by ascending or descending order while sorting a Pandas dataframe?\n",
        "46. How do you change a specific value within a dataframe?\n",
        "47. How do you convert a dataframe column to the `datetime` data type?\n",
        "48. What are the benefits of using the `datetime` data type instead of `object`?\n",
        "49. How do you extract different parts of a date column like the month, year, month, weekday, etc., into separate columns? Illustrate with an example.\n",
        "50. How do you aggregate multiple columns of a dataframe together?\n",
        "51. What is the purpose of the `groupby` method of a dataframe? Illustrate with an example.\n",
        "52. What are the different ways in which you can aggregate the groups created by `groupby`?\n",
        "53. What do you mean by a running or cumulative sum? \n",
        "54. How do you create a new column containing the running or cumulative sum of another column?\n",
        "55. What are other cumulative measures supported by Pandas dataframes?\n",
        "56. What does it mean to merge two dataframes? Give an example.\n",
        "57. How do you specify the columns that should be used for merging two dataframes?\n",
        "58. How do you write data from a Pandas dataframe into a CSV file? Give an example.\n",
        "59. What are some other file formats you can write to from a Pandas dataframe? Illustrate with examples.\n",
        "60. How do you create a line plot showing the values within a column of dataframe?\n",
        "61. How do you convert a column of a dataframe into its index?\n",
        "62. Can the index of a dataframe be non-numeric?\n",
        "63. What are the benefits of using a non-numeric dataframe? Illustrate with an example.\n",
        "64. How you create a bar plot showing the values within a column of a dataframe?\n",
        "65. What are some other types of plots supported by Pandas dataframes and series?\n"
      ]
    },
    {
      "cell_type": "code",
      "metadata": {
        "id": "WlbNR5Ym9TJl"
      },
      "source": [
        ""
      ],
      "execution_count": null,
      "outputs": []
    }
  ]
}